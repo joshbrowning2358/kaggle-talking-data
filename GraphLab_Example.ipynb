{
 "cells": [
  {
   "cell_type": "markdown",
   "metadata": {},
   "source": [
    "# SHOUT! Global Data Science Competition 2016\n",
    "\n",
    "Hi! My name is Guy Rapaport, and I'm a data scientist working for **Turi** (formerly known as **Dato**).\n",
    "\n",
    "In this notebook, I'll use **GraphLab Create**, our scalable machine learning Python library, to create a simple baseline for the competition. \n",
    "\n",
    "Turi assists TalkingData in running this competition. For the duration of this competition, Turi will supply Kaggle users with **free GraphLab Create licenses!**\n",
    "\n",
    "You can get GraphLab Create from Turi's website: http://www.turi.com/download\n",
    "\n",
    "Register using your email address, and you will get 1 month of free trial usage.\n",
    "\n",
    "Send the email adress you registered with me at [guy+kaggle@turi.com](mailto:guy+kaggle@turi.com), and I'll extend your license until the end of the competition.\n",
    "\n",
    "<img src=\"http://cdn2.hubspot.net/hub/426799/hubfs/dato_to_turi.gif\"></img>"
   ]
  },
  {
   "cell_type": "markdown",
   "metadata": {},
   "source": [
    "## Loading the Data"
   ]
  },
  {
   "cell_type": "markdown",
   "metadata": {},
   "source": [
    "### Assert all files are available\n",
    "\n",
    "I am assuming all competition data is located under in the directory **`BASEDIR`** located in the same directory as this notebook."
   ]
  },
  {
   "cell_type": "code",
   "execution_count": 1,
   "metadata": {
    "collapsed": false
   },
   "outputs": [
    {
     "name": "stdout",
     "output_type": "stream",
     "text": [
      "Expecting data (csv files) in: /Users/dato/Documents/projects/tendcloud_competition/kaggle/csvs\n"
     ]
    }
   ],
   "source": [
    "BASEDIR = \"csvs\"\n",
    "import os\n",
    "print \"Expecting data (csv files) in: %s\" % (os.path.join(os.getcwd(), BASEDIR))"
   ]
  },
  {
   "cell_type": "code",
   "execution_count": 2,
   "metadata": {
    "collapsed": false
   },
   "outputs": [],
   "source": [
    "from glob import glob\n",
    "from os.path import basename\n",
    "required_csvs = ['app_events.csv',\n",
    " 'app_labels.csv',\n",
    " 'events.csv',\n",
    " 'gender_age_test.csv',\n",
    " 'gender_age_train.csv',\n",
    " 'label_categories.csv',\n",
    " 'phone_brand_device_model.csv',\n",
    " 'sample_submission.csv']\n",
    "\n",
    "available_csvs = set(map(basename, glob(os.path.join(BASEDIR, \"*.csv\"))))\n",
    "\n",
    "assert all([r in available_csvs for r in required_csvs])"
   ]
  },
  {
   "cell_type": "markdown",
   "metadata": {},
   "source": [
    "### Import GraphLab and Load the CSVs\n",
    "\n",
    "For this part, I am assuming you have GraphLab Create installed. Otherwise, [get it from here](https://get.turi.com)!\n",
    "\n",
    "In the following lines we will simply import GraphLab (`as gl`) and use it to load the competition data into GraphLab's data structure - the `SFrame`. This is a tabular data structure which can be described as *pandas on steroids*: if you normally use pandas, you can [find your way around SFrame here](https://turi.com/learn/translator/).\n",
    "\n",
    "SFrame really shines when it has to *scale over a single machine*: it is **multicore** (all cores are used in the different SFrame operations) and **out-of-core** (meaning it is limited by the size of your disk and not of your RAM). While the data for this contest is rather small and fits in memory, you SFrames can be fed into the machine learning algorithms of GraphLab Create, as you will soon see.\n",
    "\n",
    "Let's load each dataset and inspect the first 3 rows."
   ]
  },
  {
   "cell_type": "code",
   "execution_count": 3,
   "metadata": {
    "collapsed": false
   },
   "outputs": [],
   "source": [
    "import graphlab as gl"
   ]
  },
  {
   "cell_type": "code",
   "execution_count": 4,
   "metadata": {
    "collapsed": false
   },
   "outputs": [
    {
     "name": "stderr",
     "output_type": "stream",
     "text": [
      "[INFO] graphlab.cython.cy_server: GraphLab Create v2.0.1 started. Logging: /tmp/graphlab_server_1468272895.log\n"
     ]
    },
    {
     "name": "stdout",
     "output_type": "stream",
     "text": [
      "This non-commercial license of GraphLab Create is assigned to guy4261@gmail.com and will expire on October 26, 2016. For commercial licensing options, visit https://turi.com/buy/.\n"
     ]
    },
    {
     "data": {
      "text/html": [
       "<pre>Finished parsing file /Users/dato/Documents/projects/tendcloud_competition/kaggle/csvs/app_events.csv</pre>"
      ],
      "text/plain": [
       "Finished parsing file /Users/dato/Documents/projects/tendcloud_competition/kaggle/csvs/app_events.csv"
      ]
     },
     "metadata": {},
     "output_type": "display_data"
    },
    {
     "data": {
      "text/html": [
       "<pre>Parsing completed. Parsed 100 lines in 1.12596 secs.</pre>"
      ],
      "text/plain": [
       "Parsing completed. Parsed 100 lines in 1.12596 secs."
      ]
     },
     "metadata": {},
     "output_type": "display_data"
    },
    {
     "name": "stdout",
     "output_type": "stream",
     "text": [
      "------------------------------------------------------\n",
      "Inferred types from first 100 line(s) of file as \n",
      "column_type_hints=[int,int,int,int]\n",
      "If parsing fails due to incorrect types, you can correct\n",
      "the inferred type list above and pass it to read_csv in\n",
      "the column_type_hints argument\n",
      "------------------------------------------------------\n"
     ]
    },
    {
     "data": {
      "text/html": [
       "<pre>Read 1713545 lines. Lines per second: 882953</pre>"
      ],
      "text/plain": [
       "Read 1713545 lines. Lines per second: 882953"
      ]
     },
     "metadata": {},
     "output_type": "display_data"
    },
    {
     "data": {
      "text/html": [
       "<pre>Read 11712367 lines. Lines per second: 1.66274e+06</pre>"
      ],
      "text/plain": [
       "Read 11712367 lines. Lines per second: 1.66274e+06"
      ]
     },
     "metadata": {},
     "output_type": "display_data"
    },
    {
     "data": {
      "text/html": [
       "<pre>Read 19831950 lines. Lines per second: 1.63858e+06</pre>"
      ],
      "text/plain": [
       "Read 19831950 lines. Lines per second: 1.63858e+06"
      ]
     },
     "metadata": {},
     "output_type": "display_data"
    },
    {
     "data": {
      "text/html": [
       "<pre>Read 27951564 lines. Lines per second: 1.58463e+06</pre>"
      ],
      "text/plain": [
       "Read 27951564 lines. Lines per second: 1.58463e+06"
      ]
     },
     "metadata": {},
     "output_type": "display_data"
    },
    {
     "data": {
      "text/html": [
       "<pre>Finished parsing file /Users/dato/Documents/projects/tendcloud_competition/kaggle/csvs/app_events.csv</pre>"
      ],
      "text/plain": [
       "Finished parsing file /Users/dato/Documents/projects/tendcloud_competition/kaggle/csvs/app_events.csv"
      ]
     },
     "metadata": {},
     "output_type": "display_data"
    },
    {
     "data": {
      "text/html": [
       "<pre>Parsing completed. Parsed 32473067 lines in 19.6997 secs.</pre>"
      ],
      "text/plain": [
       "Parsing completed. Parsed 32473067 lines in 19.6997 secs."
      ]
     },
     "metadata": {},
     "output_type": "display_data"
    },
    {
     "data": {
      "text/html": [
       "<div style=\"max-height:1000px;max-width:1500px;overflow:auto;\"><table frame=\"box\" rules=\"cols\">\n",
       "    <tr>\n",
       "        <th style=\"padding-left: 1em; padding-right: 1em; text-align: center\">event_id</th>\n",
       "        <th style=\"padding-left: 1em; padding-right: 1em; text-align: center\">app_id</th>\n",
       "        <th style=\"padding-left: 1em; padding-right: 1em; text-align: center\">is_installed</th>\n",
       "        <th style=\"padding-left: 1em; padding-right: 1em; text-align: center\">is_active</th>\n",
       "    </tr>\n",
       "    <tr>\n",
       "        <td style=\"padding-left: 1em; padding-right: 1em; text-align: center; vertical-align: top\">2</td>\n",
       "        <td style=\"padding-left: 1em; padding-right: 1em; text-align: center; vertical-align: top\">5927333115845830913</td>\n",
       "        <td style=\"padding-left: 1em; padding-right: 1em; text-align: center; vertical-align: top\">1</td>\n",
       "        <td style=\"padding-left: 1em; padding-right: 1em; text-align: center; vertical-align: top\">1</td>\n",
       "    </tr>\n",
       "    <tr>\n",
       "        <td style=\"padding-left: 1em; padding-right: 1em; text-align: center; vertical-align: top\">2</td>\n",
       "        <td style=\"padding-left: 1em; padding-right: 1em; text-align: center; vertical-align: top\">-5720078949152207372</td>\n",
       "        <td style=\"padding-left: 1em; padding-right: 1em; text-align: center; vertical-align: top\">1</td>\n",
       "        <td style=\"padding-left: 1em; padding-right: 1em; text-align: center; vertical-align: top\">0</td>\n",
       "    </tr>\n",
       "    <tr>\n",
       "        <td style=\"padding-left: 1em; padding-right: 1em; text-align: center; vertical-align: top\">2</td>\n",
       "        <td style=\"padding-left: 1em; padding-right: 1em; text-align: center; vertical-align: top\">-1633887856876571208</td>\n",
       "        <td style=\"padding-left: 1em; padding-right: 1em; text-align: center; vertical-align: top\">1</td>\n",
       "        <td style=\"padding-left: 1em; padding-right: 1em; text-align: center; vertical-align: top\">0</td>\n",
       "    </tr>\n",
       "</table>\n",
       "[3 rows x 4 columns]<br/>\n",
       "</div>"
      ],
      "text/plain": [
       "Columns:\n",
       "\tevent_id\tint\n",
       "\tapp_id\tint\n",
       "\tis_installed\tint\n",
       "\tis_active\tint\n",
       "\n",
       "Rows: 3\n",
       "\n",
       "Data:\n",
       "+----------+----------------------+--------------+-----------+\n",
       "| event_id |        app_id        | is_installed | is_active |\n",
       "+----------+----------------------+--------------+-----------+\n",
       "|    2     | 5927333115845830913  |      1       |     1     |\n",
       "|    2     | -5720078949152207372 |      1       |     0     |\n",
       "|    2     | -1633887856876571208 |      1       |     0     |\n",
       "+----------+----------------------+--------------+-----------+\n",
       "[3 rows x 4 columns]"
      ]
     },
     "execution_count": 4,
     "metadata": {},
     "output_type": "execute_result"
    }
   ],
   "source": [
    "app_events = gl.SFrame.read_csv('csvs/app_events.csv')\n",
    "app_events.head(3)"
   ]
  },
  {
   "cell_type": "code",
   "execution_count": 5,
   "metadata": {
    "collapsed": false
   },
   "outputs": [
    {
     "data": {
      "text/html": [
       "<pre>Finished parsing file /Users/dato/Documents/projects/tendcloud_competition/kaggle/csvs/app_labels.csv</pre>"
      ],
      "text/plain": [
       "Finished parsing file /Users/dato/Documents/projects/tendcloud_competition/kaggle/csvs/app_labels.csv"
      ]
     },
     "metadata": {},
     "output_type": "display_data"
    },
    {
     "data": {
      "text/html": [
       "<pre>Parsing completed. Parsed 100 lines in 0.242121 secs.</pre>"
      ],
      "text/plain": [
       "Parsing completed. Parsed 100 lines in 0.242121 secs."
      ]
     },
     "metadata": {},
     "output_type": "display_data"
    },
    {
     "name": "stdout",
     "output_type": "stream",
     "text": [
      "------------------------------------------------------\n",
      "Inferred types from first 100 line(s) of file as \n",
      "column_type_hints=[int,int]\n",
      "If parsing fails due to incorrect types, you can correct\n",
      "the inferred type list above and pass it to read_csv in\n",
      "the column_type_hints argument\n",
      "------------------------------------------------------\n"
     ]
    },
    {
     "data": {
      "text/html": [
       "<pre>Finished parsing file /Users/dato/Documents/projects/tendcloud_competition/kaggle/csvs/app_labels.csv</pre>"
      ],
      "text/plain": [
       "Finished parsing file /Users/dato/Documents/projects/tendcloud_competition/kaggle/csvs/app_labels.csv"
      ]
     },
     "metadata": {},
     "output_type": "display_data"
    },
    {
     "data": {
      "text/html": [
       "<pre>Parsing completed. Parsed 459943 lines in 0.273905 secs.</pre>"
      ],
      "text/plain": [
       "Parsing completed. Parsed 459943 lines in 0.273905 secs."
      ]
     },
     "metadata": {},
     "output_type": "display_data"
    },
    {
     "data": {
      "text/html": [
       "<div style=\"max-height:1000px;max-width:1500px;overflow:auto;\"><table frame=\"box\" rules=\"cols\">\n",
       "    <tr>\n",
       "        <th style=\"padding-left: 1em; padding-right: 1em; text-align: center\">app_id</th>\n",
       "        <th style=\"padding-left: 1em; padding-right: 1em; text-align: center\">label_id</th>\n",
       "    </tr>\n",
       "    <tr>\n",
       "        <td style=\"padding-left: 1em; padding-right: 1em; text-align: center; vertical-align: top\">7324884708820027918</td>\n",
       "        <td style=\"padding-left: 1em; padding-right: 1em; text-align: center; vertical-align: top\">251</td>\n",
       "    </tr>\n",
       "    <tr>\n",
       "        <td style=\"padding-left: 1em; padding-right: 1em; text-align: center; vertical-align: top\">-4494216993218550286</td>\n",
       "        <td style=\"padding-left: 1em; padding-right: 1em; text-align: center; vertical-align: top\">251</td>\n",
       "    </tr>\n",
       "    <tr>\n",
       "        <td style=\"padding-left: 1em; padding-right: 1em; text-align: center; vertical-align: top\">6058196446775239644</td>\n",
       "        <td style=\"padding-left: 1em; padding-right: 1em; text-align: center; vertical-align: top\">406</td>\n",
       "    </tr>\n",
       "</table>\n",
       "[3 rows x 2 columns]<br/>\n",
       "</div>"
      ],
      "text/plain": [
       "Columns:\n",
       "\tapp_id\tint\n",
       "\tlabel_id\tint\n",
       "\n",
       "Rows: 3\n",
       "\n",
       "Data:\n",
       "+----------------------+----------+\n",
       "|        app_id        | label_id |\n",
       "+----------------------+----------+\n",
       "| 7324884708820027918  |   251    |\n",
       "| -4494216993218550286 |   251    |\n",
       "| 6058196446775239644  |   406    |\n",
       "+----------------------+----------+\n",
       "[3 rows x 2 columns]"
      ]
     },
     "execution_count": 5,
     "metadata": {},
     "output_type": "execute_result"
    }
   ],
   "source": [
    "app_labels = gl.SFrame.read_csv('csvs/app_labels.csv')\n",
    "app_labels.head(3)"
   ]
  },
  {
   "cell_type": "code",
   "execution_count": 6,
   "metadata": {
    "collapsed": false
   },
   "outputs": [
    {
     "data": {
      "text/html": [
       "<pre>Finished parsing file /Users/dato/Documents/projects/tendcloud_competition/kaggle/csvs/events.csv</pre>"
      ],
      "text/plain": [
       "Finished parsing file /Users/dato/Documents/projects/tendcloud_competition/kaggle/csvs/events.csv"
      ]
     },
     "metadata": {},
     "output_type": "display_data"
    },
    {
     "data": {
      "text/html": [
       "<pre>Parsing completed. Parsed 100 lines in 1.86834 secs.</pre>"
      ],
      "text/plain": [
       "Parsing completed. Parsed 100 lines in 1.86834 secs."
      ]
     },
     "metadata": {},
     "output_type": "display_data"
    },
    {
     "name": "stdout",
     "output_type": "stream",
     "text": [
      "------------------------------------------------------\n",
      "Inferred types from first 100 line(s) of file as \n",
      "column_type_hints=[int,int,str,float,float]\n",
      "If parsing fails due to incorrect types, you can correct\n",
      "the inferred type list above and pass it to read_csv in\n",
      "the column_type_hints argument\n",
      "------------------------------------------------------\n"
     ]
    },
    {
     "data": {
      "text/html": [
       "<pre>Read 884193 lines. Lines per second: 323294</pre>"
      ],
      "text/plain": [
       "Read 884193 lines. Lines per second: 323294"
      ]
     },
     "metadata": {},
     "output_type": "display_data"
    },
    {
     "data": {
      "text/html": [
       "<pre>Finished parsing file /Users/dato/Documents/projects/tendcloud_competition/kaggle/csvs/events.csv</pre>"
      ],
      "text/plain": [
       "Finished parsing file /Users/dato/Documents/projects/tendcloud_competition/kaggle/csvs/events.csv"
      ]
     },
     "metadata": {},
     "output_type": "display_data"
    },
    {
     "data": {
      "text/html": [
       "<pre>Parsing completed. Parsed 3252950 lines in 5.80519 secs.</pre>"
      ],
      "text/plain": [
       "Parsing completed. Parsed 3252950 lines in 5.80519 secs."
      ]
     },
     "metadata": {},
     "output_type": "display_data"
    },
    {
     "data": {
      "text/html": [
       "<div style=\"max-height:1000px;max-width:1500px;overflow:auto;\"><table frame=\"box\" rules=\"cols\">\n",
       "    <tr>\n",
       "        <th style=\"padding-left: 1em; padding-right: 1em; text-align: center\">event_id</th>\n",
       "        <th style=\"padding-left: 1em; padding-right: 1em; text-align: center\">device_id</th>\n",
       "        <th style=\"padding-left: 1em; padding-right: 1em; text-align: center\">timestamp</th>\n",
       "        <th style=\"padding-left: 1em; padding-right: 1em; text-align: center\">longitude</th>\n",
       "        <th style=\"padding-left: 1em; padding-right: 1em; text-align: center\">latitude</th>\n",
       "    </tr>\n",
       "    <tr>\n",
       "        <td style=\"padding-left: 1em; padding-right: 1em; text-align: center; vertical-align: top\">1</td>\n",
       "        <td style=\"padding-left: 1em; padding-right: 1em; text-align: center; vertical-align: top\">29182687948017175</td>\n",
       "        <td style=\"padding-left: 1em; padding-right: 1em; text-align: center; vertical-align: top\">2016-05-01 00:55:25</td>\n",
       "        <td style=\"padding-left: 1em; padding-right: 1em; text-align: center; vertical-align: top\">121.38</td>\n",
       "        <td style=\"padding-left: 1em; padding-right: 1em; text-align: center; vertical-align: top\">31.24</td>\n",
       "    </tr>\n",
       "    <tr>\n",
       "        <td style=\"padding-left: 1em; padding-right: 1em; text-align: center; vertical-align: top\">2</td>\n",
       "        <td style=\"padding-left: 1em; padding-right: 1em; text-align: center; vertical-align: top\">-6401643145415154744</td>\n",
       "        <td style=\"padding-left: 1em; padding-right: 1em; text-align: center; vertical-align: top\">2016-05-01 00:54:12</td>\n",
       "        <td style=\"padding-left: 1em; padding-right: 1em; text-align: center; vertical-align: top\">103.65</td>\n",
       "        <td style=\"padding-left: 1em; padding-right: 1em; text-align: center; vertical-align: top\">30.97</td>\n",
       "    </tr>\n",
       "    <tr>\n",
       "        <td style=\"padding-left: 1em; padding-right: 1em; text-align: center; vertical-align: top\">3</td>\n",
       "        <td style=\"padding-left: 1em; padding-right: 1em; text-align: center; vertical-align: top\">-4833982096941402721</td>\n",
       "        <td style=\"padding-left: 1em; padding-right: 1em; text-align: center; vertical-align: top\">2016-05-01 00:08:05</td>\n",
       "        <td style=\"padding-left: 1em; padding-right: 1em; text-align: center; vertical-align: top\">106.6</td>\n",
       "        <td style=\"padding-left: 1em; padding-right: 1em; text-align: center; vertical-align: top\">29.7</td>\n",
       "    </tr>\n",
       "</table>\n",
       "[3 rows x 5 columns]<br/>\n",
       "</div>"
      ],
      "text/plain": [
       "Columns:\n",
       "\tevent_id\tint\n",
       "\tdevice_id\tint\n",
       "\ttimestamp\tstr\n",
       "\tlongitude\tfloat\n",
       "\tlatitude\tfloat\n",
       "\n",
       "Rows: 3\n",
       "\n",
       "Data:\n",
       "+----------+----------------------+---------------------+-----------+----------+\n",
       "| event_id |      device_id       |      timestamp      | longitude | latitude |\n",
       "+----------+----------------------+---------------------+-----------+----------+\n",
       "|    1     |  29182687948017175   | 2016-05-01 00:55:25 |   121.38  |  31.24   |\n",
       "|    2     | -6401643145415154744 | 2016-05-01 00:54:12 |   103.65  |  30.97   |\n",
       "|    3     | -4833982096941402721 | 2016-05-01 00:08:05 |   106.6   |   29.7   |\n",
       "+----------+----------------------+---------------------+-----------+----------+\n",
       "[3 rows x 5 columns]"
      ]
     },
     "execution_count": 6,
     "metadata": {},
     "output_type": "execute_result"
    }
   ],
   "source": [
    "events = gl.SFrame.read_csv('csvs/events.csv')\n",
    "events.head(3)"
   ]
  },
  {
   "cell_type": "markdown",
   "metadata": {},
   "source": [
    "The timestamp column was treated as a string column. I'll convert it to a datetime object before we continue."
   ]
  },
  {
   "cell_type": "code",
   "execution_count": 7,
   "metadata": {
    "collapsed": false
   },
   "outputs": [
    {
     "data": {
      "text/html": [
       "<div style=\"max-height:1000px;max-width:1500px;overflow:auto;\"><table frame=\"box\" rules=\"cols\">\n",
       "    <tr>\n",
       "        <th style=\"padding-left: 1em; padding-right: 1em; text-align: center\">event_id</th>\n",
       "        <th style=\"padding-left: 1em; padding-right: 1em; text-align: center\">device_id</th>\n",
       "        <th style=\"padding-left: 1em; padding-right: 1em; text-align: center\">timestamp</th>\n",
       "        <th style=\"padding-left: 1em; padding-right: 1em; text-align: center\">longitude</th>\n",
       "        <th style=\"padding-left: 1em; padding-right: 1em; text-align: center\">latitude</th>\n",
       "    </tr>\n",
       "    <tr>\n",
       "        <td style=\"padding-left: 1em; padding-right: 1em; text-align: center; vertical-align: top\">1</td>\n",
       "        <td style=\"padding-left: 1em; padding-right: 1em; text-align: center; vertical-align: top\">29182687948017175</td>\n",
       "        <td style=\"padding-left: 1em; padding-right: 1em; text-align: center; vertical-align: top\">2016-05-01 00:55:25</td>\n",
       "        <td style=\"padding-left: 1em; padding-right: 1em; text-align: center; vertical-align: top\">121.38</td>\n",
       "        <td style=\"padding-left: 1em; padding-right: 1em; text-align: center; vertical-align: top\">31.24</td>\n",
       "    </tr>\n",
       "    <tr>\n",
       "        <td style=\"padding-left: 1em; padding-right: 1em; text-align: center; vertical-align: top\">2</td>\n",
       "        <td style=\"padding-left: 1em; padding-right: 1em; text-align: center; vertical-align: top\">-6401643145415154744</td>\n",
       "        <td style=\"padding-left: 1em; padding-right: 1em; text-align: center; vertical-align: top\">2016-05-01 00:54:12</td>\n",
       "        <td style=\"padding-left: 1em; padding-right: 1em; text-align: center; vertical-align: top\">103.65</td>\n",
       "        <td style=\"padding-left: 1em; padding-right: 1em; text-align: center; vertical-align: top\">30.97</td>\n",
       "    </tr>\n",
       "    <tr>\n",
       "        <td style=\"padding-left: 1em; padding-right: 1em; text-align: center; vertical-align: top\">3</td>\n",
       "        <td style=\"padding-left: 1em; padding-right: 1em; text-align: center; vertical-align: top\">-4833982096941402721</td>\n",
       "        <td style=\"padding-left: 1em; padding-right: 1em; text-align: center; vertical-align: top\">2016-05-01 00:08:05</td>\n",
       "        <td style=\"padding-left: 1em; padding-right: 1em; text-align: center; vertical-align: top\">106.6</td>\n",
       "        <td style=\"padding-left: 1em; padding-right: 1em; text-align: center; vertical-align: top\">29.7</td>\n",
       "    </tr>\n",
       "</table>\n",
       "[3 rows x 5 columns]<br/>\n",
       "</div>"
      ],
      "text/plain": [
       "Columns:\n",
       "\tevent_id\tint\n",
       "\tdevice_id\tint\n",
       "\ttimestamp\tdatetime\n",
       "\tlongitude\tfloat\n",
       "\tlatitude\tfloat\n",
       "\n",
       "Rows: 3\n",
       "\n",
       "Data:\n",
       "+----------+----------------------+---------------------+-----------+----------+\n",
       "| event_id |      device_id       |      timestamp      | longitude | latitude |\n",
       "+----------+----------------------+---------------------+-----------+----------+\n",
       "|    1     |  29182687948017175   | 2016-05-01 00:55:25 |   121.38  |  31.24   |\n",
       "|    2     | -6401643145415154744 | 2016-05-01 00:54:12 |   103.65  |  30.97   |\n",
       "|    3     | -4833982096941402721 | 2016-05-01 00:08:05 |   106.6   |   29.7   |\n",
       "+----------+----------------------+---------------------+-----------+----------+\n",
       "[3 rows x 5 columns]"
      ]
     },
     "execution_count": 7,
     "metadata": {},
     "output_type": "execute_result"
    }
   ],
   "source": [
    "events[\"timestamp\"] = events[\"timestamp\"].str_to_datetime(str_format=\"%Y-%m-%dT%H:%M:%S\")\n",
    "events.head(3)"
   ]
  },
  {
   "cell_type": "markdown",
   "metadata": {},
   "source": [
    "On this occasion, I'd like to see the duration of the data."
   ]
  },
  {
   "cell_type": "code",
   "execution_count": 8,
   "metadata": {
    "collapsed": false
   },
   "outputs": [
    {
     "name": "stdout",
     "output_type": "stream",
     "text": [
      "Data duration is 7 days, 0:07:44 (2016-04-30 23:52:24->2016-05-08 00:00:08)\n"
     ]
    }
   ],
   "source": [
    "min_ts = events[\"timestamp\"].min()\n",
    "max_ts = events[\"timestamp\"].max()\n",
    "print \"Data duration is %s (%s->%s)\" % (\n",
    "    str(max_ts - min_ts),\n",
    "    str(min_ts),\n",
    "    str(max_ts)\n",
    ")"
   ]
  },
  {
   "cell_type": "code",
   "execution_count": 9,
   "metadata": {
    "collapsed": false
   },
   "outputs": [
    {
     "data": {
      "text/html": [
       "<pre>Finished parsing file /Users/dato/Documents/projects/tendcloud_competition/kaggle/csvs/gender_age_train.csv</pre>"
      ],
      "text/plain": [
       "Finished parsing file /Users/dato/Documents/projects/tendcloud_competition/kaggle/csvs/gender_age_train.csv"
      ]
     },
     "metadata": {},
     "output_type": "display_data"
    },
    {
     "data": {
      "text/html": [
       "<pre>Parsing completed. Parsed 100 lines in 0.116458 secs.</pre>"
      ],
      "text/plain": [
       "Parsing completed. Parsed 100 lines in 0.116458 secs."
      ]
     },
     "metadata": {},
     "output_type": "display_data"
    },
    {
     "name": "stdout",
     "output_type": "stream",
     "text": [
      "------------------------------------------------------\n",
      "Inferred types from first 100 line(s) of file as \n",
      "column_type_hints=[int,str,int,str]\n",
      "If parsing fails due to incorrect types, you can correct\n",
      "the inferred type list above and pass it to read_csv in\n",
      "the column_type_hints argument\n",
      "------------------------------------------------------\n"
     ]
    },
    {
     "data": {
      "text/html": [
       "<pre>Finished parsing file /Users/dato/Documents/projects/tendcloud_competition/kaggle/csvs/gender_age_train.csv</pre>"
      ],
      "text/plain": [
       "Finished parsing file /Users/dato/Documents/projects/tendcloud_competition/kaggle/csvs/gender_age_train.csv"
      ]
     },
     "metadata": {},
     "output_type": "display_data"
    },
    {
     "data": {
      "text/html": [
       "<pre>Parsing completed. Parsed 74645 lines in 0.077838 secs.</pre>"
      ],
      "text/plain": [
       "Parsing completed. Parsed 74645 lines in 0.077838 secs."
      ]
     },
     "metadata": {},
     "output_type": "display_data"
    },
    {
     "data": {
      "text/html": [
       "<div style=\"max-height:1000px;max-width:1500px;overflow:auto;\"><table frame=\"box\" rules=\"cols\">\n",
       "    <tr>\n",
       "        <th style=\"padding-left: 1em; padding-right: 1em; text-align: center\">device_id</th>\n",
       "        <th style=\"padding-left: 1em; padding-right: 1em; text-align: center\">gender</th>\n",
       "        <th style=\"padding-left: 1em; padding-right: 1em; text-align: center\">age</th>\n",
       "        <th style=\"padding-left: 1em; padding-right: 1em; text-align: center\">group</th>\n",
       "    </tr>\n",
       "    <tr>\n",
       "        <td style=\"padding-left: 1em; padding-right: 1em; text-align: center; vertical-align: top\">-8076087639492063270</td>\n",
       "        <td style=\"padding-left: 1em; padding-right: 1em; text-align: center; vertical-align: top\">M</td>\n",
       "        <td style=\"padding-left: 1em; padding-right: 1em; text-align: center; vertical-align: top\">35</td>\n",
       "        <td style=\"padding-left: 1em; padding-right: 1em; text-align: center; vertical-align: top\">M32-38</td>\n",
       "    </tr>\n",
       "    <tr>\n",
       "        <td style=\"padding-left: 1em; padding-right: 1em; text-align: center; vertical-align: top\">-2897161552818060146</td>\n",
       "        <td style=\"padding-left: 1em; padding-right: 1em; text-align: center; vertical-align: top\">M</td>\n",
       "        <td style=\"padding-left: 1em; padding-right: 1em; text-align: center; vertical-align: top\">35</td>\n",
       "        <td style=\"padding-left: 1em; padding-right: 1em; text-align: center; vertical-align: top\">M32-38</td>\n",
       "    </tr>\n",
       "    <tr>\n",
       "        <td style=\"padding-left: 1em; padding-right: 1em; text-align: center; vertical-align: top\">-8260683887967679142</td>\n",
       "        <td style=\"padding-left: 1em; padding-right: 1em; text-align: center; vertical-align: top\">M</td>\n",
       "        <td style=\"padding-left: 1em; padding-right: 1em; text-align: center; vertical-align: top\">35</td>\n",
       "        <td style=\"padding-left: 1em; padding-right: 1em; text-align: center; vertical-align: top\">M32-38</td>\n",
       "    </tr>\n",
       "    <tr>\n",
       "        <td style=\"padding-left: 1em; padding-right: 1em; text-align: center; vertical-align: top\">-4938849341048082022</td>\n",
       "        <td style=\"padding-left: 1em; padding-right: 1em; text-align: center; vertical-align: top\">M</td>\n",
       "        <td style=\"padding-left: 1em; padding-right: 1em; text-align: center; vertical-align: top\">30</td>\n",
       "        <td style=\"padding-left: 1em; padding-right: 1em; text-align: center; vertical-align: top\">M29-31</td>\n",
       "    </tr>\n",
       "    <tr>\n",
       "        <td style=\"padding-left: 1em; padding-right: 1em; text-align: center; vertical-align: top\">245133531816851882</td>\n",
       "        <td style=\"padding-left: 1em; padding-right: 1em; text-align: center; vertical-align: top\">M</td>\n",
       "        <td style=\"padding-left: 1em; padding-right: 1em; text-align: center; vertical-align: top\">30</td>\n",
       "        <td style=\"padding-left: 1em; padding-right: 1em; text-align: center; vertical-align: top\">M29-31</td>\n",
       "    </tr>\n",
       "    <tr>\n",
       "        <td style=\"padding-left: 1em; padding-right: 1em; text-align: center; vertical-align: top\">-1297074871525174196</td>\n",
       "        <td style=\"padding-left: 1em; padding-right: 1em; text-align: center; vertical-align: top\">F</td>\n",
       "        <td style=\"padding-left: 1em; padding-right: 1em; text-align: center; vertical-align: top\">24</td>\n",
       "        <td style=\"padding-left: 1em; padding-right: 1em; text-align: center; vertical-align: top\">F24-26</td>\n",
       "    </tr>\n",
       "    <tr>\n",
       "        <td style=\"padding-left: 1em; padding-right: 1em; text-align: center; vertical-align: top\">236877999787307864</td>\n",
       "        <td style=\"padding-left: 1em; padding-right: 1em; text-align: center; vertical-align: top\">M</td>\n",
       "        <td style=\"padding-left: 1em; padding-right: 1em; text-align: center; vertical-align: top\">36</td>\n",
       "        <td style=\"padding-left: 1em; padding-right: 1em; text-align: center; vertical-align: top\">M32-38</td>\n",
       "    </tr>\n",
       "    <tr>\n",
       "        <td style=\"padding-left: 1em; padding-right: 1em; text-align: center; vertical-align: top\">-8098239495777311881</td>\n",
       "        <td style=\"padding-left: 1em; padding-right: 1em; text-align: center; vertical-align: top\">M</td>\n",
       "        <td style=\"padding-left: 1em; padding-right: 1em; text-align: center; vertical-align: top\">38</td>\n",
       "        <td style=\"padding-left: 1em; padding-right: 1em; text-align: center; vertical-align: top\">M32-38</td>\n",
       "    </tr>\n",
       "    <tr>\n",
       "        <td style=\"padding-left: 1em; padding-right: 1em; text-align: center; vertical-align: top\">176515041953473526</td>\n",
       "        <td style=\"padding-left: 1em; padding-right: 1em; text-align: center; vertical-align: top\">M</td>\n",
       "        <td style=\"padding-left: 1em; padding-right: 1em; text-align: center; vertical-align: top\">33</td>\n",
       "        <td style=\"padding-left: 1em; padding-right: 1em; text-align: center; vertical-align: top\">M32-38</td>\n",
       "    </tr>\n",
       "    <tr>\n",
       "        <td style=\"padding-left: 1em; padding-right: 1em; text-align: center; vertical-align: top\">1596610250680140042</td>\n",
       "        <td style=\"padding-left: 1em; padding-right: 1em; text-align: center; vertical-align: top\">F</td>\n",
       "        <td style=\"padding-left: 1em; padding-right: 1em; text-align: center; vertical-align: top\">36</td>\n",
       "        <td style=\"padding-left: 1em; padding-right: 1em; text-align: center; vertical-align: top\">F33-42</td>\n",
       "    </tr>\n",
       "</table>\n",
       "[74645 rows x 4 columns]<br/>Note: Only the head of the SFrame is printed.<br/>You can use print_rows(num_rows=m, num_columns=n) to print more rows and columns.\n",
       "</div>"
      ],
      "text/plain": [
       "Columns:\n",
       "\tdevice_id\tint\n",
       "\tgender\tstr\n",
       "\tage\tint\n",
       "\tgroup\tstr\n",
       "\n",
       "Rows: 74645\n",
       "\n",
       "Data:\n",
       "+----------------------+--------+-----+--------+\n",
       "|      device_id       | gender | age | group  |\n",
       "+----------------------+--------+-----+--------+\n",
       "| -8076087639492063270 |   M    |  35 | M32-38 |\n",
       "| -2897161552818060146 |   M    |  35 | M32-38 |\n",
       "| -8260683887967679142 |   M    |  35 | M32-38 |\n",
       "| -4938849341048082022 |   M    |  30 | M29-31 |\n",
       "|  245133531816851882  |   M    |  30 | M29-31 |\n",
       "| -1297074871525174196 |   F    |  24 | F24-26 |\n",
       "|  236877999787307864  |   M    |  36 | M32-38 |\n",
       "| -8098239495777311881 |   M    |  38 | M32-38 |\n",
       "|  176515041953473526  |   M    |  33 | M32-38 |\n",
       "| 1596610250680140042  |   F    |  36 | F33-42 |\n",
       "+----------------------+--------+-----+--------+\n",
       "[74645 rows x 4 columns]\n",
       "Note: Only the head of the SFrame is printed.\n",
       "You can use print_rows(num_rows=m, num_columns=n) to print more rows and columns."
      ]
     },
     "execution_count": 9,
     "metadata": {},
     "output_type": "execute_result"
    }
   ],
   "source": [
    "gender_age_train = gl.SFrame.read_csv('csvs/gender_age_train.csv')\n",
    "gender_age_train"
   ]
  },
  {
   "cell_type": "code",
   "execution_count": 10,
   "metadata": {
    "collapsed": false
   },
   "outputs": [
    {
     "data": {
      "text/html": [
       "<pre>Finished parsing file /Users/dato/Documents/projects/tendcloud_competition/kaggle/csvs/gender_age_test.csv</pre>"
      ],
      "text/plain": [
       "Finished parsing file /Users/dato/Documents/projects/tendcloud_competition/kaggle/csvs/gender_age_test.csv"
      ]
     },
     "metadata": {},
     "output_type": "display_data"
    },
    {
     "data": {
      "text/html": [
       "<pre>Parsing completed. Parsed 100 lines in 0.056532 secs.</pre>"
      ],
      "text/plain": [
       "Parsing completed. Parsed 100 lines in 0.056532 secs."
      ]
     },
     "metadata": {},
     "output_type": "display_data"
    },
    {
     "name": "stdout",
     "output_type": "stream",
     "text": [
      "------------------------------------------------------\n",
      "Inferred types from first 100 line(s) of file as \n",
      "column_type_hints=[int]\n",
      "If parsing fails due to incorrect types, you can correct\n",
      "the inferred type list above and pass it to read_csv in\n",
      "the column_type_hints argument\n",
      "------------------------------------------------------\n"
     ]
    },
    {
     "data": {
      "text/html": [
       "<pre>Finished parsing file /Users/dato/Documents/projects/tendcloud_competition/kaggle/csvs/gender_age_test.csv</pre>"
      ],
      "text/plain": [
       "Finished parsing file /Users/dato/Documents/projects/tendcloud_competition/kaggle/csvs/gender_age_test.csv"
      ]
     },
     "metadata": {},
     "output_type": "display_data"
    },
    {
     "data": {
      "text/html": [
       "<pre>Parsing completed. Parsed 112071 lines in 0.063054 secs.</pre>"
      ],
      "text/plain": [
       "Parsing completed. Parsed 112071 lines in 0.063054 secs."
      ]
     },
     "metadata": {},
     "output_type": "display_data"
    },
    {
     "data": {
      "text/html": [
       "<div style=\"max-height:1000px;max-width:1500px;overflow:auto;\"><table frame=\"box\" rules=\"cols\">\n",
       "    <tr>\n",
       "        <th style=\"padding-left: 1em; padding-right: 1em; text-align: center\">device_id</th>\n",
       "    </tr>\n",
       "    <tr>\n",
       "        <td style=\"padding-left: 1em; padding-right: 1em; text-align: center; vertical-align: top\">1002079943728939269</td>\n",
       "    </tr>\n",
       "    <tr>\n",
       "        <td style=\"padding-left: 1em; padding-right: 1em; text-align: center; vertical-align: top\">-1547860181818787117</td>\n",
       "    </tr>\n",
       "    <tr>\n",
       "        <td style=\"padding-left: 1em; padding-right: 1em; text-align: center; vertical-align: top\">7374582448058474277</td>\n",
       "    </tr>\n",
       "    <tr>\n",
       "        <td style=\"padding-left: 1em; padding-right: 1em; text-align: center; vertical-align: top\">-6220210354783429585</td>\n",
       "    </tr>\n",
       "    <tr>\n",
       "        <td style=\"padding-left: 1em; padding-right: 1em; text-align: center; vertical-align: top\">-5893464122623104785</td>\n",
       "    </tr>\n",
       "    <tr>\n",
       "        <td style=\"padding-left: 1em; padding-right: 1em; text-align: center; vertical-align: top\">-7560708697029818408</td>\n",
       "    </tr>\n",
       "    <tr>\n",
       "        <td style=\"padding-left: 1em; padding-right: 1em; text-align: center; vertical-align: top\">289797889702373958</td>\n",
       "    </tr>\n",
       "    <tr>\n",
       "        <td style=\"padding-left: 1em; padding-right: 1em; text-align: center; vertical-align: top\">-402874006399730161</td>\n",
       "    </tr>\n",
       "    <tr>\n",
       "        <td style=\"padding-left: 1em; padding-right: 1em; text-align: center; vertical-align: top\">5751283639860028129</td>\n",
       "    </tr>\n",
       "    <tr>\n",
       "        <td style=\"padding-left: 1em; padding-right: 1em; text-align: center; vertical-align: top\">-848943298935149395</td>\n",
       "    </tr>\n",
       "</table>\n",
       "[112071 rows x 1 columns]<br/>Note: Only the head of the SFrame is printed.<br/>You can use print_rows(num_rows=m, num_columns=n) to print more rows and columns.\n",
       "</div>"
      ],
      "text/plain": [
       "Columns:\n",
       "\tdevice_id\tint\n",
       "\n",
       "Rows: 112071\n",
       "\n",
       "Data:\n",
       "+----------------------+\n",
       "|      device_id       |\n",
       "+----------------------+\n",
       "| 1002079943728939269  |\n",
       "| -1547860181818787117 |\n",
       "| 7374582448058474277  |\n",
       "| -6220210354783429585 |\n",
       "| -5893464122623104785 |\n",
       "| -7560708697029818408 |\n",
       "|  289797889702373958  |\n",
       "| -402874006399730161  |\n",
       "| 5751283639860028129  |\n",
       "| -848943298935149395  |\n",
       "+----------------------+\n",
       "[112071 rows x 1 columns]\n",
       "Note: Only the head of the SFrame is printed.\n",
       "You can use print_rows(num_rows=m, num_columns=n) to print more rows and columns."
      ]
     },
     "execution_count": 10,
     "metadata": {},
     "output_type": "execute_result"
    }
   ],
   "source": [
    "gender_age_test = gl.SFrame.read_csv('csvs/gender_age_test.csv')\n",
    "gender_age_test"
   ]
  },
  {
   "cell_type": "markdown",
   "metadata": {},
   "source": [
    "It's best practice to ensure we don't have any duplicate IDs in the test set."
   ]
  },
  {
   "cell_type": "code",
   "execution_count": 11,
   "metadata": {
    "collapsed": false
   },
   "outputs": [
    {
     "data": {
      "text/html": [
       "<div style=\"max-height:1000px;max-width:1500px;overflow:auto;\"><table frame=\"box\" rules=\"cols\">\n",
       "    <tr>\n",
       "        <th style=\"padding-left: 1em; padding-right: 1em; text-align: center\">device_id</th>\n",
       "        <th style=\"padding-left: 1em; padding-right: 1em; text-align: center\">count</th>\n",
       "    </tr>\n",
       "</table>\n",
       "[0 rows x 2 columns]<br/>\n",
       "</div>"
      ],
      "text/plain": [
       "Columns:\n",
       "\tdevice_id\tint\n",
       "\tcount\tint\n",
       "\n",
       "Rows: 0\n",
       "\n",
       "Data:\n",
       "\t[]"
      ]
     },
     "execution_count": 11,
     "metadata": {},
     "output_type": "execute_result"
    }
   ],
   "source": [
    "duplicate_ids = gender_age_test.groupby(\n",
    "    \"device_id\", {\n",
    "        \"count\": gl.aggregate.COUNT()}).filter_by(\n",
    "            [1], \"count\", exclude=True)\n",
    "\n",
    "duplicate_ids.materialize()\n",
    "duplicate_ids"
   ]
  },
  {
   "cell_type": "code",
   "execution_count": 12,
   "metadata": {
    "collapsed": false
   },
   "outputs": [
    {
     "data": {
      "text/html": [
       "<pre>Finished parsing file /Users/dato/Documents/projects/tendcloud_competition/kaggle/csvs/label_categories.csv</pre>"
      ],
      "text/plain": [
       "Finished parsing file /Users/dato/Documents/projects/tendcloud_competition/kaggle/csvs/label_categories.csv"
      ]
     },
     "metadata": {},
     "output_type": "display_data"
    },
    {
     "data": {
      "text/html": [
       "<pre>Parsing completed. Parsed 100 lines in 0.03684 secs.</pre>"
      ],
      "text/plain": [
       "Parsing completed. Parsed 100 lines in 0.03684 secs."
      ]
     },
     "metadata": {},
     "output_type": "display_data"
    },
    {
     "name": "stdout",
     "output_type": "stream",
     "text": [
      "------------------------------------------------------\n",
      "Inferred types from first 100 line(s) of file as \n",
      "column_type_hints=[int,str]\n",
      "If parsing fails due to incorrect types, you can correct\n",
      "the inferred type list above and pass it to read_csv in\n",
      "the column_type_hints argument\n",
      "------------------------------------------------------\n"
     ]
    },
    {
     "data": {
      "text/html": [
       "<pre>Finished parsing file /Users/dato/Documents/projects/tendcloud_competition/kaggle/csvs/label_categories.csv</pre>"
      ],
      "text/plain": [
       "Finished parsing file /Users/dato/Documents/projects/tendcloud_competition/kaggle/csvs/label_categories.csv"
      ]
     },
     "metadata": {},
     "output_type": "display_data"
    },
    {
     "data": {
      "text/html": [
       "<pre>Parsing completed. Parsed 930 lines in 0.011574 secs.</pre>"
      ],
      "text/plain": [
       "Parsing completed. Parsed 930 lines in 0.011574 secs."
      ]
     },
     "metadata": {},
     "output_type": "display_data"
    },
    {
     "data": {
      "text/html": [
       "<div style=\"max-height:1000px;max-width:1500px;overflow:auto;\"><table frame=\"box\" rules=\"cols\">\n",
       "    <tr>\n",
       "        <th style=\"padding-left: 1em; padding-right: 1em; text-align: center\">label_id</th>\n",
       "        <th style=\"padding-left: 1em; padding-right: 1em; text-align: center\">category</th>\n",
       "    </tr>\n",
       "    <tr>\n",
       "        <td style=\"padding-left: 1em; padding-right: 1em; text-align: center; vertical-align: top\">1</td>\n",
       "        <td style=\"padding-left: 1em; padding-right: 1em; text-align: center; vertical-align: top\"></td>\n",
       "    </tr>\n",
       "    <tr>\n",
       "        <td style=\"padding-left: 1em; padding-right: 1em; text-align: center; vertical-align: top\">2</td>\n",
       "        <td style=\"padding-left: 1em; padding-right: 1em; text-align: center; vertical-align: top\">game-game type</td>\n",
       "    </tr>\n",
       "    <tr>\n",
       "        <td style=\"padding-left: 1em; padding-right: 1em; text-align: center; vertical-align: top\">3</td>\n",
       "        <td style=\"padding-left: 1em; padding-right: 1em; text-align: center; vertical-align: top\">game-Game themes</td>\n",
       "    </tr>\n",
       "    <tr>\n",
       "        <td style=\"padding-left: 1em; padding-right: 1em; text-align: center; vertical-align: top\">4</td>\n",
       "        <td style=\"padding-left: 1em; padding-right: 1em; text-align: center; vertical-align: top\">game-Art Style</td>\n",
       "    </tr>\n",
       "    <tr>\n",
       "        <td style=\"padding-left: 1em; padding-right: 1em; text-align: center; vertical-align: top\">5</td>\n",
       "        <td style=\"padding-left: 1em; padding-right: 1em; text-align: center; vertical-align: top\">game-Leisure time</td>\n",
       "    </tr>\n",
       "    <tr>\n",
       "        <td style=\"padding-left: 1em; padding-right: 1em; text-align: center; vertical-align: top\">6</td>\n",
       "        <td style=\"padding-left: 1em; padding-right: 1em; text-align: center; vertical-align: top\">game-Cutting things</td>\n",
       "    </tr>\n",
       "    <tr>\n",
       "        <td style=\"padding-left: 1em; padding-right: 1em; text-align: center; vertical-align: top\">7</td>\n",
       "        <td style=\"padding-left: 1em; padding-right: 1em; text-align: center; vertical-align: top\">game-Finding fault</td>\n",
       "    </tr>\n",
       "    <tr>\n",
       "        <td style=\"padding-left: 1em; padding-right: 1em; text-align: center; vertical-align: top\">8</td>\n",
       "        <td style=\"padding-left: 1em; padding-right: 1em; text-align: center; vertical-align: top\">game-stress reliever</td>\n",
       "    </tr>\n",
       "    <tr>\n",
       "        <td style=\"padding-left: 1em; padding-right: 1em; text-align: center; vertical-align: top\">9</td>\n",
       "        <td style=\"padding-left: 1em; padding-right: 1em; text-align: center; vertical-align: top\">game-pet</td>\n",
       "    </tr>\n",
       "    <tr>\n",
       "        <td style=\"padding-left: 1em; padding-right: 1em; text-align: center; vertical-align: top\">10</td>\n",
       "        <td style=\"padding-left: 1em; padding-right: 1em; text-align: center; vertical-align: top\">game-Answer</td>\n",
       "    </tr>\n",
       "</table>\n",
       "[930 rows x 2 columns]<br/>Note: Only the head of the SFrame is printed.<br/>You can use print_rows(num_rows=m, num_columns=n) to print more rows and columns.\n",
       "</div>"
      ],
      "text/plain": [
       "Columns:\n",
       "\tlabel_id\tint\n",
       "\tcategory\tstr\n",
       "\n",
       "Rows: 930\n",
       "\n",
       "Data:\n",
       "+----------+----------------------+\n",
       "| label_id |       category       |\n",
       "+----------+----------------------+\n",
       "|    1     |                      |\n",
       "|    2     |    game-game type    |\n",
       "|    3     |   game-Game themes   |\n",
       "|    4     |    game-Art Style    |\n",
       "|    5     |  game-Leisure time   |\n",
       "|    6     | game-Cutting things  |\n",
       "|    7     |  game-Finding fault  |\n",
       "|    8     | game-stress reliever |\n",
       "|    9     |       game-pet       |\n",
       "|    10    |     game-Answer      |\n",
       "+----------+----------------------+\n",
       "[930 rows x 2 columns]\n",
       "Note: Only the head of the SFrame is printed.\n",
       "You can use print_rows(num_rows=m, num_columns=n) to print more rows and columns."
      ]
     },
     "execution_count": 12,
     "metadata": {},
     "output_type": "execute_result"
    }
   ],
   "source": [
    "label_categories = gl.SFrame.read_csv('csvs/label_categories.csv')\n",
    "label_categories"
   ]
  },
  {
   "cell_type": "code",
   "execution_count": 13,
   "metadata": {
    "collapsed": false
   },
   "outputs": [
    {
     "data": {
      "text/html": [
       "<pre>Finished parsing file /Users/dato/Documents/projects/tendcloud_competition/kaggle/csvs/phone_brand_device_model.csv</pre>"
      ],
      "text/plain": [
       "Finished parsing file /Users/dato/Documents/projects/tendcloud_competition/kaggle/csvs/phone_brand_device_model.csv"
      ]
     },
     "metadata": {},
     "output_type": "display_data"
    },
    {
     "data": {
      "text/html": [
       "<pre>Parsing completed. Parsed 100 lines in 0.253185 secs.</pre>"
      ],
      "text/plain": [
       "Parsing completed. Parsed 100 lines in 0.253185 secs."
      ]
     },
     "metadata": {},
     "output_type": "display_data"
    },
    {
     "name": "stdout",
     "output_type": "stream",
     "text": [
      "------------------------------------------------------\n",
      "Inferred types from first 100 line(s) of file as \n",
      "column_type_hints=[int,str,str]\n",
      "If parsing fails due to incorrect types, you can correct\n",
      "the inferred type list above and pass it to read_csv in\n",
      "the column_type_hints argument\n",
      "------------------------------------------------------\n"
     ]
    },
    {
     "data": {
      "text/html": [
       "<pre>Finished parsing file /Users/dato/Documents/projects/tendcloud_competition/kaggle/csvs/phone_brand_device_model.csv</pre>"
      ],
      "text/plain": [
       "Finished parsing file /Users/dato/Documents/projects/tendcloud_competition/kaggle/csvs/phone_brand_device_model.csv"
      ]
     },
     "metadata": {},
     "output_type": "display_data"
    },
    {
     "data": {
      "text/html": [
       "<pre>Parsing completed. Parsed 187245 lines in 0.262613 secs.</pre>"
      ],
      "text/plain": [
       "Parsing completed. Parsed 187245 lines in 0.262613 secs."
      ]
     },
     "metadata": {},
     "output_type": "display_data"
    },
    {
     "data": {
      "text/html": [
       "<div style=\"max-height:1000px;max-width:1500px;overflow:auto;\"><table frame=\"box\" rules=\"cols\">\n",
       "    <tr>\n",
       "        <th style=\"padding-left: 1em; padding-right: 1em; text-align: center\">device_id</th>\n",
       "        <th style=\"padding-left: 1em; padding-right: 1em; text-align: center\">phone_brand</th>\n",
       "        <th style=\"padding-left: 1em; padding-right: 1em; text-align: center\">device_model</th>\n",
       "    </tr>\n",
       "    <tr>\n",
       "        <td style=\"padding-left: 1em; padding-right: 1em; text-align: center; vertical-align: top\">-8890648629457979026</td>\n",
       "        <td style=\"padding-left: 1em; padding-right: 1em; text-align: center; vertical-align: top\">小米</td>\n",
       "        <td style=\"padding-left: 1em; padding-right: 1em; text-align: center; vertical-align: top\">红米</td>\n",
       "    </tr>\n",
       "    <tr>\n",
       "        <td style=\"padding-left: 1em; padding-right: 1em; text-align: center; vertical-align: top\">1277779817574759137</td>\n",
       "        <td style=\"padding-left: 1em; padding-right: 1em; text-align: center; vertical-align: top\">小米</td>\n",
       "        <td style=\"padding-left: 1em; padding-right: 1em; text-align: center; vertical-align: top\">MI 2</td>\n",
       "    </tr>\n",
       "    <tr>\n",
       "        <td style=\"padding-left: 1em; padding-right: 1em; text-align: center; vertical-align: top\">5137427614288105724</td>\n",
       "        <td style=\"padding-left: 1em; padding-right: 1em; text-align: center; vertical-align: top\">三星</td>\n",
       "        <td style=\"padding-left: 1em; padding-right: 1em; text-align: center; vertical-align: top\">Galaxy S4</td>\n",
       "    </tr>\n",
       "    <tr>\n",
       "        <td style=\"padding-left: 1em; padding-right: 1em; text-align: center; vertical-align: top\">3669464369358936369</td>\n",
       "        <td style=\"padding-left: 1em; padding-right: 1em; text-align: center; vertical-align: top\">SUGAR</td>\n",
       "        <td style=\"padding-left: 1em; padding-right: 1em; text-align: center; vertical-align: top\">时尚手机</td>\n",
       "    </tr>\n",
       "    <tr>\n",
       "        <td style=\"padding-left: 1em; padding-right: 1em; text-align: center; vertical-align: top\">-5019277647504317457</td>\n",
       "        <td style=\"padding-left: 1em; padding-right: 1em; text-align: center; vertical-align: top\">三星</td>\n",
       "        <td style=\"padding-left: 1em; padding-right: 1em; text-align: center; vertical-align: top\">Galaxy Note 2</td>\n",
       "    </tr>\n",
       "    <tr>\n",
       "        <td style=\"padding-left: 1em; padding-right: 1em; text-align: center; vertical-align: top\">3238009352149731868</td>\n",
       "        <td style=\"padding-left: 1em; padding-right: 1em; text-align: center; vertical-align: top\">华为</td>\n",
       "        <td style=\"padding-left: 1em; padding-right: 1em; text-align: center; vertical-align: top\">Mate</td>\n",
       "    </tr>\n",
       "    <tr>\n",
       "        <td style=\"padding-left: 1em; padding-right: 1em; text-align: center; vertical-align: top\">-3883532755183027260</td>\n",
       "        <td style=\"padding-left: 1em; padding-right: 1em; text-align: center; vertical-align: top\">小米</td>\n",
       "        <td style=\"padding-left: 1em; padding-right: 1em; text-align: center; vertical-align: top\">MI 2S</td>\n",
       "    </tr>\n",
       "    <tr>\n",
       "        <td style=\"padding-left: 1em; padding-right: 1em; text-align: center; vertical-align: top\">-2972199645857147708</td>\n",
       "        <td style=\"padding-left: 1em; padding-right: 1em; text-align: center; vertical-align: top\">华为</td>\n",
       "        <td style=\"padding-left: 1em; padding-right: 1em; text-align: center; vertical-align: top\">G610S</td>\n",
       "    </tr>\n",
       "    <tr>\n",
       "        <td style=\"padding-left: 1em; padding-right: 1em; text-align: center; vertical-align: top\">-5827952925479472594</td>\n",
       "        <td style=\"padding-left: 1em; padding-right: 1em; text-align: center; vertical-align: top\">小米</td>\n",
       "        <td style=\"padding-left: 1em; padding-right: 1em; text-align: center; vertical-align: top\">MI One Plus</td>\n",
       "    </tr>\n",
       "    <tr>\n",
       "        <td style=\"padding-left: 1em; padding-right: 1em; text-align: center; vertical-align: top\">-8262508968076336275</td>\n",
       "        <td style=\"padding-left: 1em; padding-right: 1em; text-align: center; vertical-align: top\">vivo</td>\n",
       "        <td style=\"padding-left: 1em; padding-right: 1em; text-align: center; vertical-align: top\">S7I</td>\n",
       "    </tr>\n",
       "</table>\n",
       "[187245 rows x 3 columns]<br/>Note: Only the head of the SFrame is printed.<br/>You can use print_rows(num_rows=m, num_columns=n) to print more rows and columns.\n",
       "</div>"
      ],
      "text/plain": [
       "Columns:\n",
       "\tdevice_id\tint\n",
       "\tphone_brand\tstr\n",
       "\tdevice_model\tstr\n",
       "\n",
       "Rows: 187245\n",
       "\n",
       "Data:\n",
       "+----------------------+-------------+---------------+\n",
       "|      device_id       | phone_brand |  device_model |\n",
       "+----------------------+-------------+---------------+\n",
       "| -8890648629457979026 |     小米    |      红米     |\n",
       "| 1277779817574759137  |     小米    |      MI 2     |\n",
       "| 5137427614288105724  |     三星    |   Galaxy S4   |\n",
       "| 3669464369358936369  |    SUGAR    |    时尚手机   |\n",
       "| -5019277647504317457 |     三星    | Galaxy Note 2 |\n",
       "| 3238009352149731868  |     华为    |      Mate     |\n",
       "| -3883532755183027260 |     小米    |     MI 2S     |\n",
       "| -2972199645857147708 |     华为    |     G610S     |\n",
       "| -5827952925479472594 |     小米    |  MI One Plus  |\n",
       "| -8262508968076336275 |     vivo    |      S7I      |\n",
       "+----------------------+-------------+---------------+\n",
       "[187245 rows x 3 columns]\n",
       "Note: Only the head of the SFrame is printed.\n",
       "You can use print_rows(num_rows=m, num_columns=n) to print more rows and columns."
      ]
     },
     "execution_count": 13,
     "metadata": {},
     "output_type": "execute_result"
    }
   ],
   "source": [
    "phone_brand_device_model = gl.SFrame.read_csv('csvs/phone_brand_device_model.csv')\n",
    "phone_brand_device_model"
   ]
  },
  {
   "cell_type": "code",
   "execution_count": 14,
   "metadata": {
    "collapsed": false
   },
   "outputs": [
    {
     "data": {
      "text/html": [
       "<pre>Finished parsing file /Users/dato/Documents/projects/tendcloud_competition/kaggle/csvs/sample_submission.csv</pre>"
      ],
      "text/plain": [
       "Finished parsing file /Users/dato/Documents/projects/tendcloud_competition/kaggle/csvs/sample_submission.csv"
      ]
     },
     "metadata": {},
     "output_type": "display_data"
    },
    {
     "data": {
      "text/html": [
       "<pre>Parsing completed. Parsed 100 lines in 0.314076 secs.</pre>"
      ],
      "text/plain": [
       "Parsing completed. Parsed 100 lines in 0.314076 secs."
      ]
     },
     "metadata": {},
     "output_type": "display_data"
    },
    {
     "name": "stdout",
     "output_type": "stream",
     "text": [
      "------------------------------------------------------\n",
      "Inferred types from first 100 line(s) of file as \n",
      "column_type_hints=[int,float,float,float,float,float,float,float,float,float,float,float,float]\n",
      "If parsing fails due to incorrect types, you can correct\n",
      "the inferred type list above and pass it to read_csv in\n",
      "the column_type_hints argument\n",
      "------------------------------------------------------\n"
     ]
    },
    {
     "data": {
      "text/html": [
       "<pre>Finished parsing file /Users/dato/Documents/projects/tendcloud_competition/kaggle/csvs/sample_submission.csv</pre>"
      ],
      "text/plain": [
       "Finished parsing file /Users/dato/Documents/projects/tendcloud_competition/kaggle/csvs/sample_submission.csv"
      ]
     },
     "metadata": {},
     "output_type": "display_data"
    },
    {
     "data": {
      "text/html": [
       "<pre>Parsing completed. Parsed 112071 lines in 0.326522 secs.</pre>"
      ],
      "text/plain": [
       "Parsing completed. Parsed 112071 lines in 0.326522 secs."
      ]
     },
     "metadata": {},
     "output_type": "display_data"
    },
    {
     "data": {
      "text/html": [
       "<div style=\"max-height:1000px;max-width:1500px;overflow:auto;\"><table frame=\"box\" rules=\"cols\">\n",
       "    <tr>\n",
       "        <th style=\"padding-left: 1em; padding-right: 1em; text-align: center\">device_id</th>\n",
       "        <th style=\"padding-left: 1em; padding-right: 1em; text-align: center\">F23-</th>\n",
       "        <th style=\"padding-left: 1em; padding-right: 1em; text-align: center\">F24-26</th>\n",
       "        <th style=\"padding-left: 1em; padding-right: 1em; text-align: center\">F27-28</th>\n",
       "        <th style=\"padding-left: 1em; padding-right: 1em; text-align: center\">F29-32</th>\n",
       "        <th style=\"padding-left: 1em; padding-right: 1em; text-align: center\">F33-42</th>\n",
       "        <th style=\"padding-left: 1em; padding-right: 1em; text-align: center\">F43+</th>\n",
       "        <th style=\"padding-left: 1em; padding-right: 1em; text-align: center\">M22-</th>\n",
       "        <th style=\"padding-left: 1em; padding-right: 1em; text-align: center\">M23-26</th>\n",
       "        <th style=\"padding-left: 1em; padding-right: 1em; text-align: center\">M27-28</th>\n",
       "        <th style=\"padding-left: 1em; padding-right: 1em; text-align: center\">M29-31</th>\n",
       "    </tr>\n",
       "    <tr>\n",
       "        <td style=\"padding-left: 1em; padding-right: 1em; text-align: center; vertical-align: top\">1002079943728939269</td>\n",
       "        <td style=\"padding-left: 1em; padding-right: 1em; text-align: center; vertical-align: top\">0.0833</td>\n",
       "        <td style=\"padding-left: 1em; padding-right: 1em; text-align: center; vertical-align: top\">0.0833</td>\n",
       "        <td style=\"padding-left: 1em; padding-right: 1em; text-align: center; vertical-align: top\">0.0833</td>\n",
       "        <td style=\"padding-left: 1em; padding-right: 1em; text-align: center; vertical-align: top\">0.0833</td>\n",
       "        <td style=\"padding-left: 1em; padding-right: 1em; text-align: center; vertical-align: top\">0.0833</td>\n",
       "        <td style=\"padding-left: 1em; padding-right: 1em; text-align: center; vertical-align: top\">0.0833</td>\n",
       "        <td style=\"padding-left: 1em; padding-right: 1em; text-align: center; vertical-align: top\">0.0833</td>\n",
       "        <td style=\"padding-left: 1em; padding-right: 1em; text-align: center; vertical-align: top\">0.0833</td>\n",
       "        <td style=\"padding-left: 1em; padding-right: 1em; text-align: center; vertical-align: top\">0.0833</td>\n",
       "        <td style=\"padding-left: 1em; padding-right: 1em; text-align: center; vertical-align: top\">0.0833</td>\n",
       "    </tr>\n",
       "    <tr>\n",
       "        <td style=\"padding-left: 1em; padding-right: 1em; text-align: center; vertical-align: top\">-1547860181818787117</td>\n",
       "        <td style=\"padding-left: 1em; padding-right: 1em; text-align: center; vertical-align: top\">0.0833</td>\n",
       "        <td style=\"padding-left: 1em; padding-right: 1em; text-align: center; vertical-align: top\">0.0833</td>\n",
       "        <td style=\"padding-left: 1em; padding-right: 1em; text-align: center; vertical-align: top\">0.0833</td>\n",
       "        <td style=\"padding-left: 1em; padding-right: 1em; text-align: center; vertical-align: top\">0.0833</td>\n",
       "        <td style=\"padding-left: 1em; padding-right: 1em; text-align: center; vertical-align: top\">0.0833</td>\n",
       "        <td style=\"padding-left: 1em; padding-right: 1em; text-align: center; vertical-align: top\">0.0833</td>\n",
       "        <td style=\"padding-left: 1em; padding-right: 1em; text-align: center; vertical-align: top\">0.0833</td>\n",
       "        <td style=\"padding-left: 1em; padding-right: 1em; text-align: center; vertical-align: top\">0.0833</td>\n",
       "        <td style=\"padding-left: 1em; padding-right: 1em; text-align: center; vertical-align: top\">0.0833</td>\n",
       "        <td style=\"padding-left: 1em; padding-right: 1em; text-align: center; vertical-align: top\">0.0833</td>\n",
       "    </tr>\n",
       "    <tr>\n",
       "        <td style=\"padding-left: 1em; padding-right: 1em; text-align: center; vertical-align: top\">7374582448058474277</td>\n",
       "        <td style=\"padding-left: 1em; padding-right: 1em; text-align: center; vertical-align: top\">0.0833</td>\n",
       "        <td style=\"padding-left: 1em; padding-right: 1em; text-align: center; vertical-align: top\">0.0833</td>\n",
       "        <td style=\"padding-left: 1em; padding-right: 1em; text-align: center; vertical-align: top\">0.0833</td>\n",
       "        <td style=\"padding-left: 1em; padding-right: 1em; text-align: center; vertical-align: top\">0.0833</td>\n",
       "        <td style=\"padding-left: 1em; padding-right: 1em; text-align: center; vertical-align: top\">0.0833</td>\n",
       "        <td style=\"padding-left: 1em; padding-right: 1em; text-align: center; vertical-align: top\">0.0833</td>\n",
       "        <td style=\"padding-left: 1em; padding-right: 1em; text-align: center; vertical-align: top\">0.0833</td>\n",
       "        <td style=\"padding-left: 1em; padding-right: 1em; text-align: center; vertical-align: top\">0.0833</td>\n",
       "        <td style=\"padding-left: 1em; padding-right: 1em; text-align: center; vertical-align: top\">0.0833</td>\n",
       "        <td style=\"padding-left: 1em; padding-right: 1em; text-align: center; vertical-align: top\">0.0833</td>\n",
       "    </tr>\n",
       "    <tr>\n",
       "        <td style=\"padding-left: 1em; padding-right: 1em; text-align: center; vertical-align: top\">-6220210354783429585</td>\n",
       "        <td style=\"padding-left: 1em; padding-right: 1em; text-align: center; vertical-align: top\">0.0833</td>\n",
       "        <td style=\"padding-left: 1em; padding-right: 1em; text-align: center; vertical-align: top\">0.0833</td>\n",
       "        <td style=\"padding-left: 1em; padding-right: 1em; text-align: center; vertical-align: top\">0.0833</td>\n",
       "        <td style=\"padding-left: 1em; padding-right: 1em; text-align: center; vertical-align: top\">0.0833</td>\n",
       "        <td style=\"padding-left: 1em; padding-right: 1em; text-align: center; vertical-align: top\">0.0833</td>\n",
       "        <td style=\"padding-left: 1em; padding-right: 1em; text-align: center; vertical-align: top\">0.0833</td>\n",
       "        <td style=\"padding-left: 1em; padding-right: 1em; text-align: center; vertical-align: top\">0.0833</td>\n",
       "        <td style=\"padding-left: 1em; padding-right: 1em; text-align: center; vertical-align: top\">0.0833</td>\n",
       "        <td style=\"padding-left: 1em; padding-right: 1em; text-align: center; vertical-align: top\">0.0833</td>\n",
       "        <td style=\"padding-left: 1em; padding-right: 1em; text-align: center; vertical-align: top\">0.0833</td>\n",
       "    </tr>\n",
       "    <tr>\n",
       "        <td style=\"padding-left: 1em; padding-right: 1em; text-align: center; vertical-align: top\">-5893464122623104785</td>\n",
       "        <td style=\"padding-left: 1em; padding-right: 1em; text-align: center; vertical-align: top\">0.0833</td>\n",
       "        <td style=\"padding-left: 1em; padding-right: 1em; text-align: center; vertical-align: top\">0.0833</td>\n",
       "        <td style=\"padding-left: 1em; padding-right: 1em; text-align: center; vertical-align: top\">0.0833</td>\n",
       "        <td style=\"padding-left: 1em; padding-right: 1em; text-align: center; vertical-align: top\">0.0833</td>\n",
       "        <td style=\"padding-left: 1em; padding-right: 1em; text-align: center; vertical-align: top\">0.0833</td>\n",
       "        <td style=\"padding-left: 1em; padding-right: 1em; text-align: center; vertical-align: top\">0.0833</td>\n",
       "        <td style=\"padding-left: 1em; padding-right: 1em; text-align: center; vertical-align: top\">0.0833</td>\n",
       "        <td style=\"padding-left: 1em; padding-right: 1em; text-align: center; vertical-align: top\">0.0833</td>\n",
       "        <td style=\"padding-left: 1em; padding-right: 1em; text-align: center; vertical-align: top\">0.0833</td>\n",
       "        <td style=\"padding-left: 1em; padding-right: 1em; text-align: center; vertical-align: top\">0.0833</td>\n",
       "    </tr>\n",
       "    <tr>\n",
       "        <td style=\"padding-left: 1em; padding-right: 1em; text-align: center; vertical-align: top\">-7560708697029818408</td>\n",
       "        <td style=\"padding-left: 1em; padding-right: 1em; text-align: center; vertical-align: top\">0.0833</td>\n",
       "        <td style=\"padding-left: 1em; padding-right: 1em; text-align: center; vertical-align: top\">0.0833</td>\n",
       "        <td style=\"padding-left: 1em; padding-right: 1em; text-align: center; vertical-align: top\">0.0833</td>\n",
       "        <td style=\"padding-left: 1em; padding-right: 1em; text-align: center; vertical-align: top\">0.0833</td>\n",
       "        <td style=\"padding-left: 1em; padding-right: 1em; text-align: center; vertical-align: top\">0.0833</td>\n",
       "        <td style=\"padding-left: 1em; padding-right: 1em; text-align: center; vertical-align: top\">0.0833</td>\n",
       "        <td style=\"padding-left: 1em; padding-right: 1em; text-align: center; vertical-align: top\">0.0833</td>\n",
       "        <td style=\"padding-left: 1em; padding-right: 1em; text-align: center; vertical-align: top\">0.0833</td>\n",
       "        <td style=\"padding-left: 1em; padding-right: 1em; text-align: center; vertical-align: top\">0.0833</td>\n",
       "        <td style=\"padding-left: 1em; padding-right: 1em; text-align: center; vertical-align: top\">0.0833</td>\n",
       "    </tr>\n",
       "    <tr>\n",
       "        <td style=\"padding-left: 1em; padding-right: 1em; text-align: center; vertical-align: top\">289797889702373958</td>\n",
       "        <td style=\"padding-left: 1em; padding-right: 1em; text-align: center; vertical-align: top\">0.0833</td>\n",
       "        <td style=\"padding-left: 1em; padding-right: 1em; text-align: center; vertical-align: top\">0.0833</td>\n",
       "        <td style=\"padding-left: 1em; padding-right: 1em; text-align: center; vertical-align: top\">0.0833</td>\n",
       "        <td style=\"padding-left: 1em; padding-right: 1em; text-align: center; vertical-align: top\">0.0833</td>\n",
       "        <td style=\"padding-left: 1em; padding-right: 1em; text-align: center; vertical-align: top\">0.0833</td>\n",
       "        <td style=\"padding-left: 1em; padding-right: 1em; text-align: center; vertical-align: top\">0.0833</td>\n",
       "        <td style=\"padding-left: 1em; padding-right: 1em; text-align: center; vertical-align: top\">0.0833</td>\n",
       "        <td style=\"padding-left: 1em; padding-right: 1em; text-align: center; vertical-align: top\">0.0833</td>\n",
       "        <td style=\"padding-left: 1em; padding-right: 1em; text-align: center; vertical-align: top\">0.0833</td>\n",
       "        <td style=\"padding-left: 1em; padding-right: 1em; text-align: center; vertical-align: top\">0.0833</td>\n",
       "    </tr>\n",
       "    <tr>\n",
       "        <td style=\"padding-left: 1em; padding-right: 1em; text-align: center; vertical-align: top\">-402874006399730161</td>\n",
       "        <td style=\"padding-left: 1em; padding-right: 1em; text-align: center; vertical-align: top\">0.0833</td>\n",
       "        <td style=\"padding-left: 1em; padding-right: 1em; text-align: center; vertical-align: top\">0.0833</td>\n",
       "        <td style=\"padding-left: 1em; padding-right: 1em; text-align: center; vertical-align: top\">0.0833</td>\n",
       "        <td style=\"padding-left: 1em; padding-right: 1em; text-align: center; vertical-align: top\">0.0833</td>\n",
       "        <td style=\"padding-left: 1em; padding-right: 1em; text-align: center; vertical-align: top\">0.0833</td>\n",
       "        <td style=\"padding-left: 1em; padding-right: 1em; text-align: center; vertical-align: top\">0.0833</td>\n",
       "        <td style=\"padding-left: 1em; padding-right: 1em; text-align: center; vertical-align: top\">0.0833</td>\n",
       "        <td style=\"padding-left: 1em; padding-right: 1em; text-align: center; vertical-align: top\">0.0833</td>\n",
       "        <td style=\"padding-left: 1em; padding-right: 1em; text-align: center; vertical-align: top\">0.0833</td>\n",
       "        <td style=\"padding-left: 1em; padding-right: 1em; text-align: center; vertical-align: top\">0.0833</td>\n",
       "    </tr>\n",
       "    <tr>\n",
       "        <td style=\"padding-left: 1em; padding-right: 1em; text-align: center; vertical-align: top\">5751283639860028129</td>\n",
       "        <td style=\"padding-left: 1em; padding-right: 1em; text-align: center; vertical-align: top\">0.0833</td>\n",
       "        <td style=\"padding-left: 1em; padding-right: 1em; text-align: center; vertical-align: top\">0.0833</td>\n",
       "        <td style=\"padding-left: 1em; padding-right: 1em; text-align: center; vertical-align: top\">0.0833</td>\n",
       "        <td style=\"padding-left: 1em; padding-right: 1em; text-align: center; vertical-align: top\">0.0833</td>\n",
       "        <td style=\"padding-left: 1em; padding-right: 1em; text-align: center; vertical-align: top\">0.0833</td>\n",
       "        <td style=\"padding-left: 1em; padding-right: 1em; text-align: center; vertical-align: top\">0.0833</td>\n",
       "        <td style=\"padding-left: 1em; padding-right: 1em; text-align: center; vertical-align: top\">0.0833</td>\n",
       "        <td style=\"padding-left: 1em; padding-right: 1em; text-align: center; vertical-align: top\">0.0833</td>\n",
       "        <td style=\"padding-left: 1em; padding-right: 1em; text-align: center; vertical-align: top\">0.0833</td>\n",
       "        <td style=\"padding-left: 1em; padding-right: 1em; text-align: center; vertical-align: top\">0.0833</td>\n",
       "    </tr>\n",
       "    <tr>\n",
       "        <td style=\"padding-left: 1em; padding-right: 1em; text-align: center; vertical-align: top\">-848943298935149395</td>\n",
       "        <td style=\"padding-left: 1em; padding-right: 1em; text-align: center; vertical-align: top\">0.0833</td>\n",
       "        <td style=\"padding-left: 1em; padding-right: 1em; text-align: center; vertical-align: top\">0.0833</td>\n",
       "        <td style=\"padding-left: 1em; padding-right: 1em; text-align: center; vertical-align: top\">0.0833</td>\n",
       "        <td style=\"padding-left: 1em; padding-right: 1em; text-align: center; vertical-align: top\">0.0833</td>\n",
       "        <td style=\"padding-left: 1em; padding-right: 1em; text-align: center; vertical-align: top\">0.0833</td>\n",
       "        <td style=\"padding-left: 1em; padding-right: 1em; text-align: center; vertical-align: top\">0.0833</td>\n",
       "        <td style=\"padding-left: 1em; padding-right: 1em; text-align: center; vertical-align: top\">0.0833</td>\n",
       "        <td style=\"padding-left: 1em; padding-right: 1em; text-align: center; vertical-align: top\">0.0833</td>\n",
       "        <td style=\"padding-left: 1em; padding-right: 1em; text-align: center; vertical-align: top\">0.0833</td>\n",
       "        <td style=\"padding-left: 1em; padding-right: 1em; text-align: center; vertical-align: top\">0.0833</td>\n",
       "    </tr>\n",
       "</table>\n",
       "<table frame=\"box\" rules=\"cols\">\n",
       "    <tr>\n",
       "        <th style=\"padding-left: 1em; padding-right: 1em; text-align: center\">M32-38</th>\n",
       "        <th style=\"padding-left: 1em; padding-right: 1em; text-align: center\">M39+</th>\n",
       "    </tr>\n",
       "    <tr>\n",
       "        <td style=\"padding-left: 1em; padding-right: 1em; text-align: center; vertical-align: top\">0.0833</td>\n",
       "        <td style=\"padding-left: 1em; padding-right: 1em; text-align: center; vertical-align: top\">0.0833</td>\n",
       "    </tr>\n",
       "    <tr>\n",
       "        <td style=\"padding-left: 1em; padding-right: 1em; text-align: center; vertical-align: top\">0.0833</td>\n",
       "        <td style=\"padding-left: 1em; padding-right: 1em; text-align: center; vertical-align: top\">0.0833</td>\n",
       "    </tr>\n",
       "    <tr>\n",
       "        <td style=\"padding-left: 1em; padding-right: 1em; text-align: center; vertical-align: top\">0.0833</td>\n",
       "        <td style=\"padding-left: 1em; padding-right: 1em; text-align: center; vertical-align: top\">0.0833</td>\n",
       "    </tr>\n",
       "    <tr>\n",
       "        <td style=\"padding-left: 1em; padding-right: 1em; text-align: center; vertical-align: top\">0.0833</td>\n",
       "        <td style=\"padding-left: 1em; padding-right: 1em; text-align: center; vertical-align: top\">0.0833</td>\n",
       "    </tr>\n",
       "    <tr>\n",
       "        <td style=\"padding-left: 1em; padding-right: 1em; text-align: center; vertical-align: top\">0.0833</td>\n",
       "        <td style=\"padding-left: 1em; padding-right: 1em; text-align: center; vertical-align: top\">0.0833</td>\n",
       "    </tr>\n",
       "    <tr>\n",
       "        <td style=\"padding-left: 1em; padding-right: 1em; text-align: center; vertical-align: top\">0.0833</td>\n",
       "        <td style=\"padding-left: 1em; padding-right: 1em; text-align: center; vertical-align: top\">0.0833</td>\n",
       "    </tr>\n",
       "    <tr>\n",
       "        <td style=\"padding-left: 1em; padding-right: 1em; text-align: center; vertical-align: top\">0.0833</td>\n",
       "        <td style=\"padding-left: 1em; padding-right: 1em; text-align: center; vertical-align: top\">0.0833</td>\n",
       "    </tr>\n",
       "    <tr>\n",
       "        <td style=\"padding-left: 1em; padding-right: 1em; text-align: center; vertical-align: top\">0.0833</td>\n",
       "        <td style=\"padding-left: 1em; padding-right: 1em; text-align: center; vertical-align: top\">0.0833</td>\n",
       "    </tr>\n",
       "    <tr>\n",
       "        <td style=\"padding-left: 1em; padding-right: 1em; text-align: center; vertical-align: top\">0.0833</td>\n",
       "        <td style=\"padding-left: 1em; padding-right: 1em; text-align: center; vertical-align: top\">0.0833</td>\n",
       "    </tr>\n",
       "    <tr>\n",
       "        <td style=\"padding-left: 1em; padding-right: 1em; text-align: center; vertical-align: top\">0.0833</td>\n",
       "        <td style=\"padding-left: 1em; padding-right: 1em; text-align: center; vertical-align: top\">0.0833</td>\n",
       "    </tr>\n",
       "</table>\n",
       "[112071 rows x 13 columns]<br/>Note: Only the head of the SFrame is printed.<br/>You can use print_rows(num_rows=m, num_columns=n) to print more rows and columns.\n",
       "</div>"
      ],
      "text/plain": [
       "Columns:\n",
       "\tdevice_id\tint\n",
       "\tF23-\tfloat\n",
       "\tF24-26\tfloat\n",
       "\tF27-28\tfloat\n",
       "\tF29-32\tfloat\n",
       "\tF33-42\tfloat\n",
       "\tF43+\tfloat\n",
       "\tM22-\tfloat\n",
       "\tM23-26\tfloat\n",
       "\tM27-28\tfloat\n",
       "\tM29-31\tfloat\n",
       "\tM32-38\tfloat\n",
       "\tM39+\tfloat\n",
       "\n",
       "Rows: 112071\n",
       "\n",
       "Data:\n",
       "+----------------------+--------+--------+--------+--------+--------+--------+\n",
       "|      device_id       |  F23-  | F24-26 | F27-28 | F29-32 | F33-42 |  F43+  |\n",
       "+----------------------+--------+--------+--------+--------+--------+--------+\n",
       "| 1002079943728939269  | 0.0833 | 0.0833 | 0.0833 | 0.0833 | 0.0833 | 0.0833 |\n",
       "| -1547860181818787117 | 0.0833 | 0.0833 | 0.0833 | 0.0833 | 0.0833 | 0.0833 |\n",
       "| 7374582448058474277  | 0.0833 | 0.0833 | 0.0833 | 0.0833 | 0.0833 | 0.0833 |\n",
       "| -6220210354783429585 | 0.0833 | 0.0833 | 0.0833 | 0.0833 | 0.0833 | 0.0833 |\n",
       "| -5893464122623104785 | 0.0833 | 0.0833 | 0.0833 | 0.0833 | 0.0833 | 0.0833 |\n",
       "| -7560708697029818408 | 0.0833 | 0.0833 | 0.0833 | 0.0833 | 0.0833 | 0.0833 |\n",
       "|  289797889702373958  | 0.0833 | 0.0833 | 0.0833 | 0.0833 | 0.0833 | 0.0833 |\n",
       "| -402874006399730161  | 0.0833 | 0.0833 | 0.0833 | 0.0833 | 0.0833 | 0.0833 |\n",
       "| 5751283639860028129  | 0.0833 | 0.0833 | 0.0833 | 0.0833 | 0.0833 | 0.0833 |\n",
       "| -848943298935149395  | 0.0833 | 0.0833 | 0.0833 | 0.0833 | 0.0833 | 0.0833 |\n",
       "+----------------------+--------+--------+--------+--------+--------+--------+\n",
       "+--------+--------+--------+--------+--------+--------+\n",
       "|  M22-  | M23-26 | M27-28 | M29-31 | M32-38 |  M39+  |\n",
       "+--------+--------+--------+--------+--------+--------+\n",
       "| 0.0833 | 0.0833 | 0.0833 | 0.0833 | 0.0833 | 0.0833 |\n",
       "| 0.0833 | 0.0833 | 0.0833 | 0.0833 | 0.0833 | 0.0833 |\n",
       "| 0.0833 | 0.0833 | 0.0833 | 0.0833 | 0.0833 | 0.0833 |\n",
       "| 0.0833 | 0.0833 | 0.0833 | 0.0833 | 0.0833 | 0.0833 |\n",
       "| 0.0833 | 0.0833 | 0.0833 | 0.0833 | 0.0833 | 0.0833 |\n",
       "| 0.0833 | 0.0833 | 0.0833 | 0.0833 | 0.0833 | 0.0833 |\n",
       "| 0.0833 | 0.0833 | 0.0833 | 0.0833 | 0.0833 | 0.0833 |\n",
       "| 0.0833 | 0.0833 | 0.0833 | 0.0833 | 0.0833 | 0.0833 |\n",
       "| 0.0833 | 0.0833 | 0.0833 | 0.0833 | 0.0833 | 0.0833 |\n",
       "| 0.0833 | 0.0833 | 0.0833 | 0.0833 | 0.0833 | 0.0833 |\n",
       "+--------+--------+--------+--------+--------+--------+\n",
       "[112071 rows x 13 columns]\n",
       "Note: Only the head of the SFrame is printed.\n",
       "You can use print_rows(num_rows=m, num_columns=n) to print more rows and columns."
      ]
     },
     "execution_count": 14,
     "metadata": {},
     "output_type": "execute_result"
    }
   ],
   "source": [
    "sample_submission = gl.SFrame.read_csv('csvs/sample_submission.csv')\n",
    "sample_submission"
   ]
  },
  {
   "cell_type": "markdown",
   "metadata": {},
   "source": [
    "## Feature Engineering - Preparing the Data for Model Training\n",
    "\n",
    "For this benchmark, I'd like to classify each event to its owner's gender-age group. However, our data points are not events, but the application statuses (`is installed` and `is active`) per event. Let's look at the data again, as a reminder. I'll use `event_id==2` as the example event for each of the following steps."
   ]
  },
  {
   "cell_type": "code",
   "execution_count": 15,
   "metadata": {
    "collapsed": false
   },
   "outputs": [
    {
     "data": {
      "text/html": [
       "<div style=\"max-height:1000px;max-width:1500px;overflow:auto;\"><table frame=\"box\" rules=\"cols\">\n",
       "    <tr>\n",
       "        <th style=\"padding-left: 1em; padding-right: 1em; text-align: center\">event_id</th>\n",
       "        <th style=\"padding-left: 1em; padding-right: 1em; text-align: center\">app_id</th>\n",
       "        <th style=\"padding-left: 1em; padding-right: 1em; text-align: center\">is_installed</th>\n",
       "        <th style=\"padding-left: 1em; padding-right: 1em; text-align: center\">is_active</th>\n",
       "    </tr>\n",
       "    <tr>\n",
       "        <td style=\"padding-left: 1em; padding-right: 1em; text-align: center; vertical-align: top\">2</td>\n",
       "        <td style=\"padding-left: 1em; padding-right: 1em; text-align: center; vertical-align: top\">5927333115845830913</td>\n",
       "        <td style=\"padding-left: 1em; padding-right: 1em; text-align: center; vertical-align: top\">1</td>\n",
       "        <td style=\"padding-left: 1em; padding-right: 1em; text-align: center; vertical-align: top\">1</td>\n",
       "    </tr>\n",
       "    <tr>\n",
       "        <td style=\"padding-left: 1em; padding-right: 1em; text-align: center; vertical-align: top\">2</td>\n",
       "        <td style=\"padding-left: 1em; padding-right: 1em; text-align: center; vertical-align: top\">-5720078949152207372</td>\n",
       "        <td style=\"padding-left: 1em; padding-right: 1em; text-align: center; vertical-align: top\">1</td>\n",
       "        <td style=\"padding-left: 1em; padding-right: 1em; text-align: center; vertical-align: top\">0</td>\n",
       "    </tr>\n",
       "    <tr>\n",
       "        <td style=\"padding-left: 1em; padding-right: 1em; text-align: center; vertical-align: top\">2</td>\n",
       "        <td style=\"padding-left: 1em; padding-right: 1em; text-align: center; vertical-align: top\">-1633887856876571208</td>\n",
       "        <td style=\"padding-left: 1em; padding-right: 1em; text-align: center; vertical-align: top\">1</td>\n",
       "        <td style=\"padding-left: 1em; padding-right: 1em; text-align: center; vertical-align: top\">0</td>\n",
       "    </tr>\n",
       "</table>\n",
       "[3 rows x 4 columns]<br/>\n",
       "</div>"
      ],
      "text/plain": [
       "Columns:\n",
       "\tevent_id\tint\n",
       "\tapp_id\tint\n",
       "\tis_installed\tint\n",
       "\tis_active\tint\n",
       "\n",
       "Rows: 3\n",
       "\n",
       "Data:\n",
       "+----------+----------------------+--------------+-----------+\n",
       "| event_id |        app_id        | is_installed | is_active |\n",
       "+----------+----------------------+--------------+-----------+\n",
       "|    2     | 5927333115845830913  |      1       |     1     |\n",
       "|    2     | -5720078949152207372 |      1       |     0     |\n",
       "|    2     | -1633887856876571208 |      1       |     0     |\n",
       "+----------+----------------------+--------------+-----------+\n",
       "[3 rows x 4 columns]"
      ]
     },
     "execution_count": 15,
     "metadata": {},
     "output_type": "execute_result"
    }
   ],
   "source": [
    "app_events.filter_by([2], \"event_id\").head(3)"
   ]
  },
  {
   "cell_type": "markdown",
   "metadata": {},
   "source": [
    "GraphLab Create can handle sparse vectors (Python `dict` objects) and expand them to columns, so I don't have to represent my data like this. To begin with, I'll completely ignore the `is_installed` column, since all the sampled apps are of course installed. You can verify this by checking how many unique values are in the `is_installed` column:"
   ]
  },
  {
   "cell_type": "code",
   "execution_count": 16,
   "metadata": {
    "collapsed": false
   },
   "outputs": [
    {
     "data": {
      "text/plain": [
       "dtype: int\n",
       "Rows: 1\n",
       "[1]"
      ]
     },
     "execution_count": 16,
     "metadata": {},
     "output_type": "execute_result"
    }
   ],
   "source": [
    "app_events[\"is_installed\"].unique()"
   ]
  },
  {
   "cell_type": "markdown",
   "metadata": {},
   "source": [
    "Now I'll run a SQL-like groupby operation that will create a dictionary stating whether each app in the event is active or not.\n",
    "\n",
    "Let's run the operation and check the result:"
   ]
  },
  {
   "cell_type": "code",
   "execution_count": 17,
   "metadata": {
    "collapsed": false
   },
   "outputs": [
    {
     "data": {
      "text/html": [
       "<div style=\"max-height:1000px;max-width:1500px;overflow:auto;\"><table frame=\"box\" rules=\"cols\">\n",
       "    <tr>\n",
       "        <th style=\"padding-left: 1em; padding-right: 1em; text-align: center\">event_id</th>\n",
       "        <th style=\"padding-left: 1em; padding-right: 1em; text-align: center\">active</th>\n",
       "    </tr>\n",
       "    <tr>\n",
       "        <td style=\"padding-left: 1em; padding-right: 1em; text-align: center; vertical-align: top\">2</td>\n",
       "        <td style=\"padding-left: 1em; padding-right: 1em; text-align: center; vertical-align: top\">{5927333115845830913: 1,<br>-1758857579862594461: 0, ...</td>\n",
       "    </tr>\n",
       "</table>\n",
       "[1 rows x 2 columns]<br/>\n",
       "</div>"
      ],
      "text/plain": [
       "Columns:\n",
       "\tevent_id\tint\n",
       "\tactive\tdict\n",
       "\n",
       "Rows: 1\n",
       "\n",
       "Data:\n",
       "+----------+-------------------------------+\n",
       "| event_id |             active            |\n",
       "+----------+-------------------------------+\n",
       "|    2     | {5927333115845830913: 1, -... |\n",
       "+----------+-------------------------------+\n",
       "[1 rows x 2 columns]"
      ]
     },
     "execution_count": 17,
     "metadata": {},
     "output_type": "execute_result"
    }
   ],
   "source": [
    "grouped_app_events = app_events.groupby(\"event_id\", {\"active\": gl.aggregate.CONCAT(\"app_id\", \"is_active\")})\n",
    "grouped_app_events.filter_by([2], \"event_id\")"
   ]
  },
  {
   "cell_type": "markdown",
   "metadata": {},
   "source": [
    "We can then split the `active` column into apps that are only installed, and these apps off the `active` column."
   ]
  },
  {
   "cell_type": "code",
   "execution_count": 18,
   "metadata": {
    "collapsed": true
   },
   "outputs": [],
   "source": [
    "grouped_app_events[\"installed\"] = grouped_app_events[\"active\"].apply(lambda d:{k:1 for (k, v) in d.iteritems() if v == 0})"
   ]
  },
  {
   "cell_type": "code",
   "execution_count": 19,
   "metadata": {
    "collapsed": false
   },
   "outputs": [],
   "source": [
    "grouped_app_events[\"active\"] = grouped_app_events[\"active\"].dict_trim_by_values(1)"
   ]
  },
  {
   "cell_type": "code",
   "execution_count": 20,
   "metadata": {
    "collapsed": false
   },
   "outputs": [
    {
     "data": {
      "text/html": [
       "<div style=\"max-height:1000px;max-width:1500px;overflow:auto;\"><table frame=\"box\" rules=\"cols\">\n",
       "    <tr>\n",
       "        <th style=\"padding-left: 1em; padding-right: 1em; text-align: center\">event_id</th>\n",
       "        <th style=\"padding-left: 1em; padding-right: 1em; text-align: center\">active</th>\n",
       "        <th style=\"padding-left: 1em; padding-right: 1em; text-align: center\">installed</th>\n",
       "    </tr>\n",
       "    <tr>\n",
       "        <td style=\"padding-left: 1em; padding-right: 1em; text-align: center; vertical-align: top\">2</td>\n",
       "        <td style=\"padding-left: 1em; padding-right: 1em; text-align: center; vertical-align: top\">{5927333115845830913: 1,<br>4775896950989639373: 1, ...</td>\n",
       "        <td style=\"padding-left: 1em; padding-right: 1em; text-align: center; vertical-align: top\">{-1758857579862594461: 1,<br>3717049149426646122: 1, ...</td>\n",
       "    </tr>\n",
       "</table>\n",
       "[1 rows x 3 columns]<br/>\n",
       "</div>"
      ],
      "text/plain": [
       "Columns:\n",
       "\tevent_id\tint\n",
       "\tactive\tdict\n",
       "\tinstalled\tdict\n",
       "\n",
       "Rows: 1\n",
       "\n",
       "Data:\n",
       "+----------+-------------------------------+-------------------------------+\n",
       "| event_id |             active            |           installed           |\n",
       "+----------+-------------------------------+-------------------------------+\n",
       "|    2     | {5927333115845830913: 1, 4... | {-1758857579862594461: 1, ... |\n",
       "+----------+-------------------------------+-------------------------------+\n",
       "[1 rows x 3 columns]"
      ]
     },
     "execution_count": 20,
     "metadata": {},
     "output_type": "execute_result"
    }
   ],
   "source": [
    "# Shorthand syntax for the filter_by operation\n",
    "grouped_app_events[grouped_app_events[\"event_id\"] == 2].head(1)"
   ]
  },
  {
   "cell_type": "markdown",
   "metadata": {},
   "source": [
    "Now each event can be classified on its own. Let's join the grouped app events with the events metadata SFrame."
   ]
  },
  {
   "cell_type": "code",
   "execution_count": 21,
   "metadata": {
    "collapsed": false
   },
   "outputs": [
    {
     "data": {
      "text/html": [
       "<div style=\"max-height:1000px;max-width:1500px;overflow:auto;\"><table frame=\"box\" rules=\"cols\">\n",
       "    <tr>\n",
       "        <th style=\"padding-left: 1em; padding-right: 1em; text-align: center\">event_id</th>\n",
       "        <th style=\"padding-left: 1em; padding-right: 1em; text-align: center\">device_id</th>\n",
       "        <th style=\"padding-left: 1em; padding-right: 1em; text-align: center\">timestamp</th>\n",
       "        <th style=\"padding-left: 1em; padding-right: 1em; text-align: center\">longitude</th>\n",
       "        <th style=\"padding-left: 1em; padding-right: 1em; text-align: center\">latitude</th>\n",
       "        <th style=\"padding-left: 1em; padding-right: 1em; text-align: center\">active</th>\n",
       "    </tr>\n",
       "    <tr>\n",
       "        <td style=\"padding-left: 1em; padding-right: 1em; text-align: center; vertical-align: top\">2</td>\n",
       "        <td style=\"padding-left: 1em; padding-right: 1em; text-align: center; vertical-align: top\">-6401643145415154744</td>\n",
       "        <td style=\"padding-left: 1em; padding-right: 1em; text-align: center; vertical-align: top\">2016-05-01 00:54:12</td>\n",
       "        <td style=\"padding-left: 1em; padding-right: 1em; text-align: center; vertical-align: top\">103.65</td>\n",
       "        <td style=\"padding-left: 1em; padding-right: 1em; text-align: center; vertical-align: top\">30.97</td>\n",
       "        <td style=\"padding-left: 1em; padding-right: 1em; text-align: center; vertical-align: top\">{5927333115845830913: 1,<br>4775896950989639373: 1, ...</td>\n",
       "    </tr>\n",
       "</table>\n",
       "<table frame=\"box\" rules=\"cols\">\n",
       "    <tr>\n",
       "        <th style=\"padding-left: 1em; padding-right: 1em; text-align: center\">installed</th>\n",
       "    </tr>\n",
       "    <tr>\n",
       "        <td style=\"padding-left: 1em; padding-right: 1em; text-align: center; vertical-align: top\">{-1758857579862594461: 1,<br>3717049149426646122: 1, ...</td>\n",
       "    </tr>\n",
       "</table>\n",
       "[1 rows x 7 columns]<br/>\n",
       "</div>"
      ],
      "text/plain": [
       "Columns:\n",
       "\tevent_id\tint\n",
       "\tdevice_id\tint\n",
       "\ttimestamp\tdatetime\n",
       "\tlongitude\tfloat\n",
       "\tlatitude\tfloat\n",
       "\tactive\tdict\n",
       "\tinstalled\tdict\n",
       "\n",
       "Rows: 1\n",
       "\n",
       "Data:\n",
       "+----------+----------------------+---------------------+-----------+----------+\n",
       "| event_id |      device_id       |      timestamp      | longitude | latitude |\n",
       "+----------+----------------------+---------------------+-----------+----------+\n",
       "|    2     | -6401643145415154744 | 2016-05-01 00:54:12 |   103.65  |  30.97   |\n",
       "+----------+----------------------+---------------------+-----------+----------+\n",
       "+-------------------------------+-------------------------------+\n",
       "|             active            |           installed           |\n",
       "+-------------------------------+-------------------------------+\n",
       "| {5927333115845830913: 1, 4... | {-1758857579862594461: 1, ... |\n",
       "+-------------------------------+-------------------------------+\n",
       "[1 rows x 7 columns]"
      ]
     },
     "execution_count": 21,
     "metadata": {},
     "output_type": "execute_result"
    }
   ],
   "source": [
    "joined = events.join(grouped_app_events, on=\"event_id\")\n",
    "joined[joined[\"event_id\"] == 2].head(1)"
   ]
  },
  {
   "cell_type": "markdown",
   "metadata": {},
   "source": [
    "Note that now, each device may still have multiple events associated with it. I'll classify each event separately and then aggregate the results; you can choose a different part, especially if you want to beat the competition `;)`\n",
    "\n",
    "Here's an example of other events by the device from our favourite `event_id==2`:"
   ]
  },
  {
   "cell_type": "code",
   "execution_count": 22,
   "metadata": {
    "collapsed": false
   },
   "outputs": [
    {
     "data": {
      "text/html": [
       "<div style=\"max-height:1000px;max-width:1500px;overflow:auto;\"><table frame=\"box\" rules=\"cols\">\n",
       "    <tr>\n",
       "        <th style=\"padding-left: 1em; padding-right: 1em; text-align: center\">event_id</th>\n",
       "        <th style=\"padding-left: 1em; padding-right: 1em; text-align: center\">device_id</th>\n",
       "        <th style=\"padding-left: 1em; padding-right: 1em; text-align: center\">timestamp</th>\n",
       "        <th style=\"padding-left: 1em; padding-right: 1em; text-align: center\">longitude</th>\n",
       "        <th style=\"padding-left: 1em; padding-right: 1em; text-align: center\">latitude</th>\n",
       "        <th style=\"padding-left: 1em; padding-right: 1em; text-align: center\">active</th>\n",
       "    </tr>\n",
       "    <tr>\n",
       "        <td style=\"padding-left: 1em; padding-right: 1em; text-align: center; vertical-align: top\">2</td>\n",
       "        <td style=\"padding-left: 1em; padding-right: 1em; text-align: center; vertical-align: top\">-6401643145415154744</td>\n",
       "        <td style=\"padding-left: 1em; padding-right: 1em; text-align: center; vertical-align: top\">2016-05-01 00:54:12</td>\n",
       "        <td style=\"padding-left: 1em; padding-right: 1em; text-align: center; vertical-align: top\">103.65</td>\n",
       "        <td style=\"padding-left: 1em; padding-right: 1em; text-align: center; vertical-align: top\">30.97</td>\n",
       "        <td style=\"padding-left: 1em; padding-right: 1em; text-align: center; vertical-align: top\">{5927333115845830913: 1,<br>4775896950989639373: 1, ...</td>\n",
       "    </tr>\n",
       "    <tr>\n",
       "        <td style=\"padding-left: 1em; padding-right: 1em; text-align: center; vertical-align: top\">65269</td>\n",
       "        <td style=\"padding-left: 1em; padding-right: 1em; text-align: center; vertical-align: top\">-6401643145415154744</td>\n",
       "        <td style=\"padding-left: 1em; padding-right: 1em; text-align: center; vertical-align: top\">2016-05-01 00:51:34</td>\n",
       "        <td style=\"padding-left: 1em; padding-right: 1em; text-align: center; vertical-align: top\">103.65</td>\n",
       "        <td style=\"padding-left: 1em; padding-right: 1em; text-align: center; vertical-align: top\">30.97</td>\n",
       "        <td style=\"padding-left: 1em; padding-right: 1em; text-align: center; vertical-align: top\">{5927333115845830913: 1,<br>4775896950989639373: 1, ...</td>\n",
       "    </tr>\n",
       "    <tr>\n",
       "        <td style=\"padding-left: 1em; padding-right: 1em; text-align: center; vertical-align: top\">212044</td>\n",
       "        <td style=\"padding-left: 1em; padding-right: 1em; text-align: center; vertical-align: top\">-6401643145415154744</td>\n",
       "        <td style=\"padding-left: 1em; padding-right: 1em; text-align: center; vertical-align: top\">2016-05-01 22:17:00</td>\n",
       "        <td style=\"padding-left: 1em; padding-right: 1em; text-align: center; vertical-align: top\">103.62</td>\n",
       "        <td style=\"padding-left: 1em; padding-right: 1em; text-align: center; vertical-align: top\">30.99</td>\n",
       "        <td style=\"padding-left: 1em; padding-right: 1em; text-align: center; vertical-align: top\">{5927333115845830913: 1,<br>7167114343576723123: 1, ...</td>\n",
       "    </tr>\n",
       "</table>\n",
       "<table frame=\"box\" rules=\"cols\">\n",
       "    <tr>\n",
       "        <th style=\"padding-left: 1em; padding-right: 1em; text-align: center\">installed</th>\n",
       "    </tr>\n",
       "    <tr>\n",
       "        <td style=\"padding-left: 1em; padding-right: 1em; text-align: center; vertical-align: top\">{-1758857579862594461: 1,<br>3717049149426646122: 1, ...</td>\n",
       "    </tr>\n",
       "    <tr>\n",
       "        <td style=\"padding-left: 1em; padding-right: 1em; text-align: center; vertical-align: top\">{-1758857579862594461: 1,<br>3717049149426646122: 1, ...</td>\n",
       "    </tr>\n",
       "    <tr>\n",
       "        <td style=\"padding-left: 1em; padding-right: 1em; text-align: center; vertical-align: top\">{}</td>\n",
       "    </tr>\n",
       "</table>\n",
       "[3 rows x 7 columns]<br/>\n",
       "</div>"
      ],
      "text/plain": [
       "Columns:\n",
       "\tevent_id\tint\n",
       "\tdevice_id\tint\n",
       "\ttimestamp\tdatetime\n",
       "\tlongitude\tfloat\n",
       "\tlatitude\tfloat\n",
       "\tactive\tdict\n",
       "\tinstalled\tdict\n",
       "\n",
       "Rows: 3\n",
       "\n",
       "Data:\n",
       "+----------+----------------------+---------------------+-----------+----------+\n",
       "| event_id |      device_id       |      timestamp      | longitude | latitude |\n",
       "+----------+----------------------+---------------------+-----------+----------+\n",
       "|    2     | -6401643145415154744 | 2016-05-01 00:54:12 |   103.65  |  30.97   |\n",
       "|  65269   | -6401643145415154744 | 2016-05-01 00:51:34 |   103.65  |  30.97   |\n",
       "|  212044  | -6401643145415154744 | 2016-05-01 22:17:00 |   103.62  |  30.99   |\n",
       "+----------+----------------------+---------------------+-----------+----------+\n",
       "+-------------------------------+-------------------------------+\n",
       "|             active            |           installed           |\n",
       "+-------------------------------+-------------------------------+\n",
       "| {5927333115845830913: 1, 4... | {-1758857579862594461: 1, ... |\n",
       "| {5927333115845830913: 1, 4... | {-1758857579862594461: 1, ... |\n",
       "| {5927333115845830913: 1, 7... |               {}              |\n",
       "+-------------------------------+-------------------------------+\n",
       "[3 rows x 7 columns]"
      ]
     },
     "execution_count": 22,
     "metadata": {},
     "output_type": "execute_result"
    }
   ],
   "source": [
    "joined.filter_by([-6401643145415154744], \"device_id\").head(3)"
   ]
  },
  {
   "cell_type": "markdown",
   "metadata": {},
   "source": [
    "Now let's use our train and test datasets. We'll run a join operation between the joined events data and the train/test datasets. SFrame's default join type is `inner`, which means we'll only take the events that has a corresponding `device_id` in the train/test SFrame. This will effectively split our joined events data between train and test sets, according to the device IDs."
   ]
  },
  {
   "cell_type": "code",
   "execution_count": 23,
   "metadata": {
    "collapsed": false
   },
   "outputs": [
    {
     "data": {
      "text/html": [
       "<div style=\"max-height:1000px;max-width:1500px;overflow:auto;\"><table frame=\"box\" rules=\"cols\">\n",
       "    <tr>\n",
       "        <th style=\"padding-left: 1em; padding-right: 1em; text-align: center\">event_id</th>\n",
       "        <th style=\"padding-left: 1em; padding-right: 1em; text-align: center\">device_id</th>\n",
       "        <th style=\"padding-left: 1em; padding-right: 1em; text-align: center\">timestamp</th>\n",
       "        <th style=\"padding-left: 1em; padding-right: 1em; text-align: center\">longitude</th>\n",
       "        <th style=\"padding-left: 1em; padding-right: 1em; text-align: center\">latitude</th>\n",
       "        <th style=\"padding-left: 1em; padding-right: 1em; text-align: center\">active</th>\n",
       "    </tr>\n",
       "    <tr>\n",
       "        <td style=\"padding-left: 1em; padding-right: 1em; text-align: center; vertical-align: top\">6</td>\n",
       "        <td style=\"padding-left: 1em; padding-right: 1em; text-align: center; vertical-align: top\">1476664663289716375</td>\n",
       "        <td style=\"padding-left: 1em; padding-right: 1em; text-align: center; vertical-align: top\">2016-05-01 00:27:21</td>\n",
       "        <td style=\"padding-left: 1em; padding-right: 1em; text-align: center; vertical-align: top\">0.0</td>\n",
       "        <td style=\"padding-left: 1em; padding-right: 1em; text-align: center; vertical-align: top\">0.0</td>\n",
       "        <td style=\"padding-left: 1em; padding-right: 1em; text-align: center; vertical-align: top\">{-3467200097934864127: 1,<br>5927333115845830913: 1, ...</td>\n",
       "    </tr>\n",
       "    <tr>\n",
       "        <td style=\"padding-left: 1em; padding-right: 1em; text-align: center; vertical-align: top\">29</td>\n",
       "        <td style=\"padding-left: 1em; padding-right: 1em; text-align: center; vertical-align: top\">7166563712658305181</td>\n",
       "        <td style=\"padding-left: 1em; padding-right: 1em; text-align: center; vertical-align: top\">2016-05-01 00:31:40</td>\n",
       "        <td style=\"padding-left: 1em; padding-right: 1em; text-align: center; vertical-align: top\">117.96</td>\n",
       "        <td style=\"padding-left: 1em; padding-right: 1em; text-align: center; vertical-align: top\">28.47</td>\n",
       "        <td style=\"padding-left: 1em; padding-right: 1em; text-align: center; vertical-align: top\">{-9129109839652417461: 1,<br>5099453940784075687: 1, ...</td>\n",
       "    </tr>\n",
       "    <tr>\n",
       "        <td style=\"padding-left: 1em; padding-right: 1em; text-align: center; vertical-align: top\">35</td>\n",
       "        <td style=\"padding-left: 1em; padding-right: 1em; text-align: center; vertical-align: top\">-3449419341168524142</td>\n",
       "        <td style=\"padding-left: 1em; padding-right: 1em; text-align: center; vertical-align: top\">2016-05-01 00:25:41</td>\n",
       "        <td style=\"padding-left: 1em; padding-right: 1em; text-align: center; vertical-align: top\">0.0</td>\n",
       "        <td style=\"padding-left: 1em; padding-right: 1em; text-align: center; vertical-align: top\">0.0</td>\n",
       "        <td style=\"padding-left: 1em; padding-right: 1em; text-align: center; vertical-align: top\">{6666573793632706850: 1,<br>-6159006306231678365: 1, ...</td>\n",
       "    </tr>\n",
       "</table>\n",
       "<table frame=\"box\" rules=\"cols\">\n",
       "    <tr>\n",
       "        <th style=\"padding-left: 1em; padding-right: 1em; text-align: center\">installed</th>\n",
       "        <th style=\"padding-left: 1em; padding-right: 1em; text-align: center\">gender</th>\n",
       "        <th style=\"padding-left: 1em; padding-right: 1em; text-align: center\">age</th>\n",
       "        <th style=\"padding-left: 1em; padding-right: 1em; text-align: center\">group</th>\n",
       "    </tr>\n",
       "    <tr>\n",
       "        <td style=\"padding-left: 1em; padding-right: 1em; text-align: center; vertical-align: top\">{-1633873313139722876: 1,<br>5729517255058371973: 1, ...</td>\n",
       "        <td style=\"padding-left: 1em; padding-right: 1em; text-align: center; vertical-align: top\">M</td>\n",
       "        <td style=\"padding-left: 1em; padding-right: 1em; text-align: center; vertical-align: top\">19</td>\n",
       "        <td style=\"padding-left: 1em; padding-right: 1em; text-align: center; vertical-align: top\">M22-</td>\n",
       "    </tr>\n",
       "    <tr>\n",
       "        <td style=\"padding-left: 1em; padding-right: 1em; text-align: center; vertical-align: top\">{5927333115845830913: 1,<br>-5791102939414640022: 1, ...</td>\n",
       "        <td style=\"padding-left: 1em; padding-right: 1em; text-align: center; vertical-align: top\">M</td>\n",
       "        <td style=\"padding-left: 1em; padding-right: 1em; text-align: center; vertical-align: top\">60</td>\n",
       "        <td style=\"padding-left: 1em; padding-right: 1em; text-align: center; vertical-align: top\">M39+</td>\n",
       "    </tr>\n",
       "    <tr>\n",
       "        <td style=\"padding-left: 1em; padding-right: 1em; text-align: center; vertical-align: top\">{5927333115845830913: 1,<br>7499170796297973860: 1, ...</td>\n",
       "        <td style=\"padding-left: 1em; padding-right: 1em; text-align: center; vertical-align: top\">M</td>\n",
       "        <td style=\"padding-left: 1em; padding-right: 1em; text-align: center; vertical-align: top\">28</td>\n",
       "        <td style=\"padding-left: 1em; padding-right: 1em; text-align: center; vertical-align: top\">M27-28</td>\n",
       "    </tr>\n",
       "</table>\n",
       "[3 rows x 10 columns]<br/>\n",
       "</div>"
      ],
      "text/plain": [
       "Columns:\n",
       "\tevent_id\tint\n",
       "\tdevice_id\tint\n",
       "\ttimestamp\tdatetime\n",
       "\tlongitude\tfloat\n",
       "\tlatitude\tfloat\n",
       "\tactive\tdict\n",
       "\tinstalled\tdict\n",
       "\tgender\tstr\n",
       "\tage\tint\n",
       "\tgroup\tstr\n",
       "\n",
       "Rows: 3\n",
       "\n",
       "Data:\n",
       "+----------+----------------------+---------------------+-----------+----------+\n",
       "| event_id |      device_id       |      timestamp      | longitude | latitude |\n",
       "+----------+----------------------+---------------------+-----------+----------+\n",
       "|    6     | 1476664663289716375  | 2016-05-01 00:27:21 |    0.0    |   0.0    |\n",
       "|    29    | 7166563712658305181  | 2016-05-01 00:31:40 |   117.96  |  28.47   |\n",
       "|    35    | -3449419341168524142 | 2016-05-01 00:25:41 |    0.0    |   0.0    |\n",
       "+----------+----------------------+---------------------+-----------+----------+\n",
       "+-------------------------------+-------------------------------+--------+-----+\n",
       "|             active            |           installed           | gender | age |\n",
       "+-------------------------------+-------------------------------+--------+-----+\n",
       "| {-3467200097934864127: 1, ... | {-1633873313139722876: 1, ... |   M    |  19 |\n",
       "| {-9129109839652417461: 1, ... | {5927333115845830913: 1, -... |   M    |  60 |\n",
       "| {6666573793632706850: 1, -... | {5927333115845830913: 1, 7... |   M    |  28 |\n",
       "+-------------------------------+-------------------------------+--------+-----+\n",
       "+--------+\n",
       "| group  |\n",
       "+--------+\n",
       "|  M22-  |\n",
       "|  M39+  |\n",
       "| M27-28 |\n",
       "+--------+\n",
       "[3 rows x 10 columns]"
      ]
     },
     "execution_count": 23,
     "metadata": {},
     "output_type": "execute_result"
    }
   ],
   "source": [
    "train = joined.join(gender_age_train, on=\"device_id\")\n",
    "train.head(3)"
   ]
  },
  {
   "cell_type": "code",
   "execution_count": 24,
   "metadata": {
    "collapsed": false
   },
   "outputs": [
    {
     "data": {
      "text/html": [
       "<div style=\"max-height:1000px;max-width:1500px;overflow:auto;\"><table frame=\"box\" rules=\"cols\">\n",
       "    <tr>\n",
       "        <th style=\"padding-left: 1em; padding-right: 1em; text-align: center\">event_id</th>\n",
       "        <th style=\"padding-left: 1em; padding-right: 1em; text-align: center\">device_id</th>\n",
       "        <th style=\"padding-left: 1em; padding-right: 1em; text-align: center\">timestamp</th>\n",
       "        <th style=\"padding-left: 1em; padding-right: 1em; text-align: center\">longitude</th>\n",
       "        <th style=\"padding-left: 1em; padding-right: 1em; text-align: center\">latitude</th>\n",
       "        <th style=\"padding-left: 1em; padding-right: 1em; text-align: center\">active</th>\n",
       "    </tr>\n",
       "    <tr>\n",
       "        <td style=\"padding-left: 1em; padding-right: 1em; text-align: center; vertical-align: top\">2</td>\n",
       "        <td style=\"padding-left: 1em; padding-right: 1em; text-align: center; vertical-align: top\">-6401643145415154744</td>\n",
       "        <td style=\"padding-left: 1em; padding-right: 1em; text-align: center; vertical-align: top\">2016-05-01 00:54:12</td>\n",
       "        <td style=\"padding-left: 1em; padding-right: 1em; text-align: center; vertical-align: top\">103.65</td>\n",
       "        <td style=\"padding-left: 1em; padding-right: 1em; text-align: center; vertical-align: top\">30.97</td>\n",
       "        <td style=\"padding-left: 1em; padding-right: 1em; text-align: center; vertical-align: top\">{5927333115845830913: 1,<br>4775896950989639373: 1, ...</td>\n",
       "    </tr>\n",
       "    <tr>\n",
       "        <td style=\"padding-left: 1em; padding-right: 1em; text-align: center; vertical-align: top\">7</td>\n",
       "        <td style=\"padding-left: 1em; padding-right: 1em; text-align: center; vertical-align: top\">5990807147117726237</td>\n",
       "        <td style=\"padding-left: 1em; padding-right: 1em; text-align: center; vertical-align: top\">2016-05-01 00:15:13</td>\n",
       "        <td style=\"padding-left: 1em; padding-right: 1em; text-align: center; vertical-align: top\">113.73</td>\n",
       "        <td style=\"padding-left: 1em; padding-right: 1em; text-align: center; vertical-align: top\">23.0</td>\n",
       "        <td style=\"padding-left: 1em; padding-right: 1em; text-align: center; vertical-align: top\">{33792862810792679: 1,<br>487766649788038994: 1, ...</td>\n",
       "    </tr>\n",
       "    <tr>\n",
       "        <td style=\"padding-left: 1em; padding-right: 1em; text-align: center; vertical-align: top\">9</td>\n",
       "        <td style=\"padding-left: 1em; padding-right: 1em; text-align: center; vertical-align: top\">-2073340001552902943</td>\n",
       "        <td style=\"padding-left: 1em; padding-right: 1em; text-align: center; vertical-align: top\">2016-05-01 00:15:33</td>\n",
       "        <td style=\"padding-left: 1em; padding-right: 1em; text-align: center; vertical-align: top\">0.0</td>\n",
       "        <td style=\"padding-left: 1em; padding-right: 1em; text-align: center; vertical-align: top\">0.0</td>\n",
       "        <td style=\"padding-left: 1em; padding-right: 1em; text-align: center; vertical-align: top\">{-332792151099088795: 1,<br>5099453940784075687: 1, ...</td>\n",
       "    </tr>\n",
       "</table>\n",
       "<table frame=\"box\" rules=\"cols\">\n",
       "    <tr>\n",
       "        <th style=\"padding-left: 1em; padding-right: 1em; text-align: center\">installed</th>\n",
       "    </tr>\n",
       "    <tr>\n",
       "        <td style=\"padding-left: 1em; padding-right: 1em; text-align: center; vertical-align: top\">{-1758857579862594461: 1,<br>3717049149426646122: 1, ...</td>\n",
       "    </tr>\n",
       "    <tr>\n",
       "        <td style=\"padding-left: 1em; padding-right: 1em; text-align: center; vertical-align: top\">{-1633933922436094199: 1,<br>-607956450007961078: 1, ...</td>\n",
       "    </tr>\n",
       "    <tr>\n",
       "        <td style=\"padding-left: 1em; padding-right: 1em; text-align: center; vertical-align: top\">{5927333115845830913: 1,<br>6279509966423362439: 1, ...</td>\n",
       "    </tr>\n",
       "</table>\n",
       "[3 rows x 7 columns]<br/>\n",
       "</div>"
      ],
      "text/plain": [
       "Columns:\n",
       "\tevent_id\tint\n",
       "\tdevice_id\tint\n",
       "\ttimestamp\tdatetime\n",
       "\tlongitude\tfloat\n",
       "\tlatitude\tfloat\n",
       "\tactive\tdict\n",
       "\tinstalled\tdict\n",
       "\n",
       "Rows: 3\n",
       "\n",
       "Data:\n",
       "+----------+----------------------+---------------------+-----------+----------+\n",
       "| event_id |      device_id       |      timestamp      | longitude | latitude |\n",
       "+----------+----------------------+---------------------+-----------+----------+\n",
       "|    2     | -6401643145415154744 | 2016-05-01 00:54:12 |   103.65  |  30.97   |\n",
       "|    7     | 5990807147117726237  | 2016-05-01 00:15:13 |   113.73  |   23.0   |\n",
       "|    9     | -2073340001552902943 | 2016-05-01 00:15:33 |    0.0    |   0.0    |\n",
       "+----------+----------------------+---------------------+-----------+----------+\n",
       "+-------------------------------+-------------------------------+\n",
       "|             active            |           installed           |\n",
       "+-------------------------------+-------------------------------+\n",
       "| {5927333115845830913: 1, 4... | {-1758857579862594461: 1, ... |\n",
       "| {33792862810792679: 1, 487... | {-1633933922436094199: 1, ... |\n",
       "| {-332792151099088795: 1, 5... | {5927333115845830913: 1, 6... |\n",
       "+-------------------------------+-------------------------------+\n",
       "[3 rows x 7 columns]"
      ]
     },
     "execution_count": 24,
     "metadata": {},
     "output_type": "execute_result"
    }
   ],
   "source": [
    "test = joined.join(gender_age_test, on=\"device_id\")\n",
    "test.head(3)"
   ]
  },
  {
   "cell_type": "markdown",
   "metadata": {},
   "source": [
    "Again, just to make sure, let's assert there is now interesection between the train devices and the test devices."
   ]
  },
  {
   "cell_type": "code",
   "execution_count": 25,
   "metadata": {
    "collapsed": false
   },
   "outputs": [
    {
     "data": {
      "text/plain": [
       "set()"
      ]
     },
     "execution_count": 25,
     "metadata": {},
     "output_type": "execute_result"
    }
   ],
   "source": [
    "intersection = set(train[\"device_id\"].unique()) & set(test[\"device_id\"].unique())\n",
    "assert len(intersection) == 0\n",
    "intersection"
   ]
  },
  {
   "cell_type": "markdown",
   "metadata": {},
   "source": [
    "## Machine Learning Time! Classifiying using GraphLab Create"
   ]
  },
  {
   "cell_type": "markdown",
   "metadata": {},
   "source": [
    "Time for training some models! But first, let's shuffle our train data and create some folds of it so that we can do k-fold cross validation."
   ]
  },
  {
   "cell_type": "code",
   "execution_count": 26,
   "metadata": {
    "collapsed": true
   },
   "outputs": [],
   "source": [
    "train = gl.cross_validation.shuffle(train, random_seed=0)\n",
    "folds = gl.cross_validation.KFold(train, num_folds=5)"
   ]
  },
  {
   "cell_type": "markdown",
   "metadata": {},
   "source": [
    "We are about to train a model, so we need to define our target column and our feature columns. Let's look at the column names again:"
   ]
  },
  {
   "cell_type": "code",
   "execution_count": 27,
   "metadata": {
    "collapsed": false
   },
   "outputs": [
    {
     "data": {
      "text/plain": [
       "['event_id',\n",
       " 'device_id',\n",
       " 'timestamp',\n",
       " 'longitude',\n",
       " 'latitude',\n",
       " 'active',\n",
       " 'installed',\n",
       " 'gender',\n",
       " 'age',\n",
       " 'group']"
      ]
     },
     "execution_count": 27,
     "metadata": {},
     "output_type": "execute_result"
    }
   ],
   "source": [
    "train.column_names()"
   ]
  },
  {
   "cell_type": "markdown",
   "metadata": {},
   "source": [
    "* `event_id' - That's obviously useless: it's just an indexing column.\n",
    "* `device_id' - Also useless index column.\n",
    "* `timestamp' - Might be useful, but only after we'll break it down to hours of day, and the dates to weekdays/weekends. And even so, this effort would be worthwhile only if we have many events for many devices. We'll keep it out for this notebook.\n",
    "* `longitude`, `latitude` - Can we derive the gender and age of a person by it's latitude? Perhaps there are locations visited more by men/woman, or by children/adults. Let's keep these two. Note that our longitude/latitude values have at most 2 digits after the decimal point, [indicating an accuracy of ~1.1 kilometers](http://gis.stackexchange.com/a/8674).\n",
    "* `active`, `installed` - feature columns we worked hard to put our hands on: definitely in!\n",
    "* `gender`, `age`, `group` - our potential **target** columns.\n",
    "\n",
    "In this notebook I'll use **`group`** as the target column. A different solution may fuse two different models, one for gender, another for age.\n",
    "\n",
    "Let's use the first fold to demonstrate how easy it is to train a model using GraphLab Create. We'll use a **boosted decision trees classifier** model, and we'll feed our fold's SFrames to it.\n",
    "You can read\n",
    "[more on how to use this model in our API docs](https://turi.com/products/create/docs/generated/graphlab.boosted_trees_classifier.create.html#graphlab.boosted_trees_classifier.create).\n",
    "\n",
    "Note: I'll use the validation set part of the first fold as the `validation_set` for the model. This means that after each training iteration, GraphLab will print the performance over the validation set. It does not affect the training process at all, and if we didn't supplied it (nor used `None` as the value for it), GraphLab would use a random 5% sample of the training data (`fold_train`) for this purpose."
   ]
  },
  {
   "cell_type": "code",
   "execution_count": 28,
   "metadata": {
    "collapsed": false
   },
   "outputs": [
    {
     "data": {
      "text/html": [
       "<pre>Boosted trees classifier:</pre>"
      ],
      "text/plain": [
       "Boosted trees classifier:"
      ]
     },
     "metadata": {},
     "output_type": "display_data"
    },
    {
     "data": {
      "text/html": [
       "<pre>--------------------------------------------------------</pre>"
      ],
      "text/plain": [
       "--------------------------------------------------------"
      ]
     },
     "metadata": {},
     "output_type": "display_data"
    },
    {
     "data": {
      "text/html": [
       "<pre>Number of examples          : 445100</pre>"
      ],
      "text/plain": [
       "Number of examples          : 445100"
      ]
     },
     "metadata": {},
     "output_type": "display_data"
    },
    {
     "data": {
      "text/html": [
       "<pre>Number of classes           : 12</pre>"
      ],
      "text/plain": [
       "Number of classes           : 12"
      ]
     },
     "metadata": {},
     "output_type": "display_data"
    },
    {
     "data": {
      "text/html": [
       "<pre>Number of feature columns   : 4</pre>"
      ],
      "text/plain": [
       "Number of feature columns   : 4"
      ]
     },
     "metadata": {},
     "output_type": "display_data"
    },
    {
     "data": {
      "text/html": [
       "<pre>Number of unpacked features : 19514</pre>"
      ],
      "text/plain": [
       "Number of unpacked features : 19514"
      ]
     },
     "metadata": {},
     "output_type": "display_data"
    },
    {
     "data": {
      "text/html": [
       "<pre>+-----------+--------------+-------------------+---------------------+-------------------+---------------------+</pre>"
      ],
      "text/plain": [
       "+-----------+--------------+-------------------+---------------------+-------------------+---------------------+"
      ]
     },
     "metadata": {},
     "output_type": "display_data"
    },
    {
     "data": {
      "text/html": [
       "<pre>| Iteration | Elapsed Time | Training-accuracy | Validation-accuracy | Training-log_loss | Validation-log_loss |</pre>"
      ],
      "text/plain": [
       "| Iteration | Elapsed Time | Training-accuracy | Validation-accuracy | Training-log_loss | Validation-log_loss |"
      ]
     },
     "metadata": {},
     "output_type": "display_data"
    },
    {
     "data": {
      "text/html": [
       "<pre>+-----------+--------------+-------------------+---------------------+-------------------+---------------------+</pre>"
      ],
      "text/plain": [
       "+-----------+--------------+-------------------+---------------------+-------------------+---------------------+"
      ]
     },
     "metadata": {},
     "output_type": "display_data"
    },
    {
     "data": {
      "text/html": [
       "<pre>| 1         | 6.720145     | 0.262584          | 0.261209            | 2.330986          | 2.333783            |</pre>"
      ],
      "text/plain": [
       "| 1         | 6.720145     | 0.262584          | 0.261209            | 2.330986          | 2.333783            |"
      ]
     },
     "metadata": {},
     "output_type": "display_data"
    },
    {
     "data": {
      "text/html": [
       "<pre>| 2         | 13.534877    | 0.301164          | 0.300696            | 2.233088          | 2.235990            |</pre>"
      ],
      "text/plain": [
       "| 2         | 13.534877    | 0.301164          | 0.300696            | 2.233088          | 2.235990            |"
      ]
     },
     "metadata": {},
     "output_type": "display_data"
    },
    {
     "data": {
      "text/html": [
       "<pre>| 3         | 20.295149    | 0.324790          | 0.324493            | 2.162090          | 2.165930            |</pre>"
      ],
      "text/plain": [
       "| 3         | 20.295149    | 0.324790          | 0.324493            | 2.162090          | 2.165930            |"
      ]
     },
     "metadata": {},
     "output_type": "display_data"
    },
    {
     "data": {
      "text/html": [
       "<pre>| 4         | 27.023036    | 0.343148          | 0.340903            | 2.107565          | 2.112691            |</pre>"
      ],
      "text/plain": [
       "| 4         | 27.023036    | 0.343148          | 0.340903            | 2.107565          | 2.112691            |"
      ]
     },
     "metadata": {},
     "output_type": "display_data"
    },
    {
     "data": {
      "text/html": [
       "<pre>| 5         | 33.776147    | 0.360337          | 0.357187            | 2.060389          | 2.066080            |</pre>"
      ],
      "text/plain": [
       "| 5         | 33.776147    | 0.360337          | 0.357187            | 2.060389          | 2.066080            |"
      ]
     },
     "metadata": {},
     "output_type": "display_data"
    },
    {
     "data": {
      "text/html": [
       "<pre>| 6         | 40.424030    | 0.374123          | 0.370874            | 2.021143          | 2.026551            |</pre>"
      ],
      "text/plain": [
       "| 6         | 40.424030    | 0.374123          | 0.370874            | 2.021143          | 2.026551            |"
      ]
     },
     "metadata": {},
     "output_type": "display_data"
    },
    {
     "data": {
      "text/html": [
       "<pre>| 7         | 47.372559    | 0.387306          | 0.383599            | 1.988184          | 1.993455            |</pre>"
      ],
      "text/plain": [
       "| 7         | 47.372559    | 0.387306          | 0.383599            | 1.988184          | 1.993455            |"
      ]
     },
     "metadata": {},
     "output_type": "display_data"
    },
    {
     "data": {
      "text/html": [
       "<pre>| 8         | 54.270464    | 0.399315          | 0.395471            | 1.955374          | 1.961137            |</pre>"
      ],
      "text/plain": [
       "| 8         | 54.270464    | 0.399315          | 0.395471            | 1.955374          | 1.961137            |"
      ]
     },
     "metadata": {},
     "output_type": "display_data"
    },
    {
     "data": {
      "text/html": [
       "<pre>| 9         | 60.981458    | 0.407643          | 0.403002            | 1.929875          | 1.937094            |</pre>"
      ],
      "text/plain": [
       "| 9         | 60.981458    | 0.407643          | 0.403002            | 1.929875          | 1.937094            |"
      ]
     },
     "metadata": {},
     "output_type": "display_data"
    },
    {
     "data": {
      "text/html": [
       "<pre>| 10        | 68.138157    | 0.418236          | 0.413130            | 1.903009          | 1.911203            |</pre>"
      ],
      "text/plain": [
       "| 10        | 68.138157    | 0.418236          | 0.413130            | 1.903009          | 1.911203            |"
      ]
     },
     "metadata": {},
     "output_type": "display_data"
    },
    {
     "data": {
      "text/html": [
       "<pre>+-----------+--------------+-------------------+---------------------+-------------------+---------------------+</pre>"
      ],
      "text/plain": [
       "+-----------+--------------+-------------------+---------------------+-------------------+---------------------+"
      ]
     },
     "metadata": {},
     "output_type": "display_data"
    }
   ],
   "source": [
    "fold_train, fold_val = folds[0]\n",
    "\n",
    "target = \"group\"\n",
    "features = [\n",
    " 'longitude',\n",
    " 'latitude',\n",
    " 'active',\n",
    " 'installed'\n",
    "]\n",
    "\n",
    "model = gl.classifier.boosted_trees_classifier.create(fold_train,\n",
    "                                                      target=target, features=features,\n",
    "                                                      validation_set=fold_val)"
   ]
  },
  {
   "cell_type": "markdown",
   "metadata": {},
   "source": [
    "What a fancy logloss! I wonder how good would the model perform on the test data :)\n",
    "\n",
    "Meanwhile, let's see how stable this training method is over the other folds:"
   ]
  },
  {
   "cell_type": "code",
   "execution_count": 29,
   "metadata": {
    "collapsed": false
   },
   "outputs": [
    {
     "name": "stdout",
     "output_type": "stream",
     "text": [
      "log loss for fold 1: 1.911203\n",
      "log loss for fold 2: 1.914789\n",
      "log loss for fold 3: 1.913967\n",
      "log loss for fold 4: 1.912135\n",
      "log loss for fold 5: 1.912335\n"
     ]
    }
   ],
   "source": [
    "log_loss_values = []\n",
    "\n",
    "for fold_train, fold_val in folds:\n",
    "    model = gl.classifier.boosted_trees_classifier.create(fold_train,\n",
    "                                                      target=target, features=features,\n",
    "                                                      validation_set=None, verbose=False)\n",
    "    log_loss_values.append(model.evaluate(fold_val, metric=\"log_loss\")[\"log_loss\"])\n",
    "\n",
    "for i, ll in enumerate(log_loss_values):\n",
    "    print \"log loss for fold %d: %f\" %(i+1, ll)"
   ]
  },
  {
   "cell_type": "markdown",
   "metadata": {},
   "source": [
    "Looks pretty stable to me!\n",
    "\n",
    "Note that by training method I mean not only our choice of features and feature engineering, but also how we tune our boosted trees. There are many default values being used for different aspects of the training, as you can see from the API docs:\n",
    "\n",
    "```python\n",
    "graphlab.boosted_trees_classifier.create(dataset, target, features=None,\n",
    "    max_iterations=10, validation_set='auto', class_weights=None,\n",
    "    max_depth=6, step_size=0.3, min_loss_reduction=0.0, min_child_weight=0.1,\n",
    "    row_subsample=1.0, column_subsample=1.0, verbose=True,\n",
    "    random_seed=None, metric='auto', **kwargs)\n",
    "```\n",
    "\n",
    "Before we'll create our submission, let's see check which features were most useful for this model. In the boosted decision trees context, that means, which features were found the most in the trees' nodes (as split points)."
   ]
  },
  {
   "cell_type": "code",
   "execution_count": 30,
   "metadata": {
    "collapsed": false
   },
   "outputs": [
    {
     "data": {
      "text/html": [
       "<div style=\"max-height:1000px;max-width:1500px;overflow:auto;\"><table frame=\"box\" rules=\"cols\">\n",
       "    <tr>\n",
       "        <th style=\"padding-left: 1em; padding-right: 1em; text-align: center\">name</th>\n",
       "        <th style=\"padding-left: 1em; padding-right: 1em; text-align: center\">index</th>\n",
       "        <th style=\"padding-left: 1em; padding-right: 1em; text-align: center\">count</th>\n",
       "    </tr>\n",
       "    <tr>\n",
       "        <td style=\"padding-left: 1em; padding-right: 1em; text-align: center; vertical-align: top\">longitude</td>\n",
       "        <td style=\"padding-left: 1em; padding-right: 1em; text-align: center; vertical-align: top\">None</td>\n",
       "        <td style=\"padding-left: 1em; padding-right: 1em; text-align: center; vertical-align: top\">144</td>\n",
       "    </tr>\n",
       "    <tr>\n",
       "        <td style=\"padding-left: 1em; padding-right: 1em; text-align: center; vertical-align: top\">latitude</td>\n",
       "        <td style=\"padding-left: 1em; padding-right: 1em; text-align: center; vertical-align: top\">None</td>\n",
       "        <td style=\"padding-left: 1em; padding-right: 1em; text-align: center; vertical-align: top\">97</td>\n",
       "    </tr>\n",
       "    <tr>\n",
       "        <td style=\"padding-left: 1em; padding-right: 1em; text-align: center; vertical-align: top\">active</td>\n",
       "        <td style=\"padding-left: 1em; padding-right: 1em; text-align: center; vertical-align: top\">3433289601737013244</td>\n",
       "        <td style=\"padding-left: 1em; padding-right: 1em; text-align: center; vertical-align: top\">60</td>\n",
       "    </tr>\n",
       "    <tr>\n",
       "        <td style=\"padding-left: 1em; padding-right: 1em; text-align: center; vertical-align: top\">active</td>\n",
       "        <td style=\"padding-left: 1em; padding-right: 1em; text-align: center; vertical-align: top\">-2320783822570582843</td>\n",
       "        <td style=\"padding-left: 1em; padding-right: 1em; text-align: center; vertical-align: top\">48</td>\n",
       "    </tr>\n",
       "    <tr>\n",
       "        <td style=\"padding-left: 1em; padding-right: 1em; text-align: center; vertical-align: top\">active</td>\n",
       "        <td style=\"padding-left: 1em; padding-right: 1em; text-align: center; vertical-align: top\">6284164581582112235</td>\n",
       "        <td style=\"padding-left: 1em; padding-right: 1em; text-align: center; vertical-align: top\">46</td>\n",
       "    </tr>\n",
       "    <tr>\n",
       "        <td style=\"padding-left: 1em; padding-right: 1em; text-align: center; vertical-align: top\">active</td>\n",
       "        <td style=\"padding-left: 1em; padding-right: 1em; text-align: center; vertical-align: top\">5516228268441717785</td>\n",
       "        <td style=\"padding-left: 1em; padding-right: 1em; text-align: center; vertical-align: top\">44</td>\n",
       "    </tr>\n",
       "    <tr>\n",
       "        <td style=\"padding-left: 1em; padding-right: 1em; text-align: center; vertical-align: top\">active</td>\n",
       "        <td style=\"padding-left: 1em; padding-right: 1em; text-align: center; vertical-align: top\">-5368809411346728624</td>\n",
       "        <td style=\"padding-left: 1em; padding-right: 1em; text-align: center; vertical-align: top\">43</td>\n",
       "    </tr>\n",
       "    <tr>\n",
       "        <td style=\"padding-left: 1em; padding-right: 1em; text-align: center; vertical-align: top\">active</td>\n",
       "        <td style=\"padding-left: 1em; padding-right: 1em; text-align: center; vertical-align: top\">5927333115845830913</td>\n",
       "        <td style=\"padding-left: 1em; padding-right: 1em; text-align: center; vertical-align: top\">43</td>\n",
       "    </tr>\n",
       "    <tr>\n",
       "        <td style=\"padding-left: 1em; padding-right: 1em; text-align: center; vertical-align: top\">active</td>\n",
       "        <td style=\"padding-left: 1em; padding-right: 1em; text-align: center; vertical-align: top\">6956699582426139508</td>\n",
       "        <td style=\"padding-left: 1em; padding-right: 1em; text-align: center; vertical-align: top\">40</td>\n",
       "    </tr>\n",
       "    <tr>\n",
       "        <td style=\"padding-left: 1em; padding-right: 1em; text-align: center; vertical-align: top\">active</td>\n",
       "        <td style=\"padding-left: 1em; padding-right: 1em; text-align: center; vertical-align: top\">-3955212733485100109</td>\n",
       "        <td style=\"padding-left: 1em; padding-right: 1em; text-align: center; vertical-align: top\">38</td>\n",
       "    </tr>\n",
       "</table>\n",
       "[19500 rows x 3 columns]<br/>Note: Only the head of the SFrame is printed.<br/>You can use print_rows(num_rows=m, num_columns=n) to print more rows and columns.\n",
       "</div>"
      ],
      "text/plain": [
       "Columns:\n",
       "\tname\tstr\n",
       "\tindex\tstr\n",
       "\tcount\tint\n",
       "\n",
       "Rows: 19500\n",
       "\n",
       "Data:\n",
       "+-----------+----------------------+-------+\n",
       "|    name   |        index         | count |\n",
       "+-----------+----------------------+-------+\n",
       "| longitude |         None         |  144  |\n",
       "|  latitude |         None         |   97  |\n",
       "|   active  | 3433289601737013244  |   60  |\n",
       "|   active  | -2320783822570582843 |   48  |\n",
       "|   active  | 6284164581582112235  |   46  |\n",
       "|   active  | 5516228268441717785  |   44  |\n",
       "|   active  | -5368809411346728624 |   43  |\n",
       "|   active  | 5927333115845830913  |   43  |\n",
       "|   active  | 6956699582426139508  |   40  |\n",
       "|   active  | -3955212733485100109 |   38  |\n",
       "+-----------+----------------------+-------+\n",
       "[19500 rows x 3 columns]\n",
       "Note: Only the head of the SFrame is printed.\n",
       "You can use print_rows(num_rows=m, num_columns=n) to print more rows and columns."
      ]
     },
     "execution_count": 30,
     "metadata": {},
     "output_type": "execute_result"
    }
   ],
   "source": [
    "model.get_feature_importance()"
   ]
  },
  {
   "cell_type": "markdown",
   "metadata": {},
   "source": [
    "This result applies to the last trained `model`, but I assure you `longitude` and `latitude` are always prominent. What can we learn from this? Perhaps that in different areas, people behave differently, and require a different model for predicting their age and gender. Who knows - that would require a more deeper inspection.\n",
    "\n",
    "Another interesting point is that for some app IDs, an active app would say a lot about your group. Let's write a function for obtaining apps categories given IDs."
   ]
  },
  {
   "cell_type": "code",
   "execution_count": 31,
   "metadata": {
    "collapsed": false
   },
   "outputs": [],
   "source": [
    "def get_categories_for_apps(*app_ids):\n",
    "    app_ids = map(int, app_ids)\n",
    "    return app_labels.filter_by(app_ids, \"app_id\").join(label_categories, on=\"label_id\")[\"category\"].unique()"
   ]
  },
  {
   "cell_type": "markdown",
   "metadata": {},
   "source": [
    "Note that we convereted tha `app_ids` back to `int` values using `map`.\n",
    "\n",
    "This is required because even though we packed those `int` app_ids into the dictionaries of `active` and `installed` apps, they are treated as categorical values in the training. Thus, they are stored in the `model.get_feature_importance()` results as strings and need to be converted back to `int`."
   ]
  },
  {
   "cell_type": "code",
   "execution_count": 32,
   "metadata": {
    "collapsed": false
   },
   "outputs": [
    {
     "name": "stdout",
     "output_type": "stream",
     "text": [
      "name <type 'str'>\n",
      "index <type 'str'>\n",
      "count <type 'int'>\n"
     ]
    }
   ],
   "source": [
    "for colname, coltype in zip(\n",
    "    model.get_feature_importance().column_names(),\n",
    "    model.get_feature_importance().column_types()):\n",
    "    print colname, coltype"
   ]
  },
  {
   "cell_type": "markdown",
   "metadata": {},
   "source": [
    "So for the top 5 app IDs, let's see their respective categories:"
   ]
  },
  {
   "cell_type": "code",
   "execution_count": 33,
   "metadata": {
    "collapsed": false
   },
   "outputs": [
    {
     "name": "stdout",
     "output_type": "stream",
     "text": [
      "app_id=3433289601737013244, categories=['Industry tag', 'Property Industry 1.0']\n",
      "app_id=-2320783822570582843, categories=['weibo']\n",
      "app_id=6284164581582112235, categories=['Industry tag', 'Property Industry 2.0', 'Services 1']\n",
      "app_id=5516228268441717785, categories=['P2P net loan', 'Debit and credit', 'Pay']\n",
      "app_id=-5368809411346728624, categories=['Industry tag', 'Property Industry 1.0', 'Taxi']\n"
     ]
    }
   ],
   "source": [
    "for app_id in model.get_feature_importance()[\"index\"][2:7]:\n",
    "    print \"app_id=%s, categories=%s\" % (app_id, str(get_categories_for_apps(app_id)))"
   ]
  },
  {
   "cell_type": "markdown",
   "metadata": {},
   "source": [
    "## Creating a Submission\n",
    "\n",
    "Let's use our train model to predict the probability for each of our target classes. We'll use the `gender_age_test` joined data we created earlier. Here's a reminder of how it looks like - exactly like the train data, *sans* the target columns."
   ]
  },
  {
   "cell_type": "code",
   "execution_count": 34,
   "metadata": {
    "collapsed": false
   },
   "outputs": [
    {
     "data": {
      "text/html": [
       "<div style=\"max-height:1000px;max-width:1500px;overflow:auto;\"><table frame=\"box\" rules=\"cols\">\n",
       "    <tr>\n",
       "        <th style=\"padding-left: 1em; padding-right: 1em; text-align: center\">event_id</th>\n",
       "        <th style=\"padding-left: 1em; padding-right: 1em; text-align: center\">device_id</th>\n",
       "        <th style=\"padding-left: 1em; padding-right: 1em; text-align: center\">timestamp</th>\n",
       "        <th style=\"padding-left: 1em; padding-right: 1em; text-align: center\">longitude</th>\n",
       "        <th style=\"padding-left: 1em; padding-right: 1em; text-align: center\">latitude</th>\n",
       "        <th style=\"padding-left: 1em; padding-right: 1em; text-align: center\">active</th>\n",
       "    </tr>\n",
       "    <tr>\n",
       "        <td style=\"padding-left: 1em; padding-right: 1em; text-align: center; vertical-align: top\">2</td>\n",
       "        <td style=\"padding-left: 1em; padding-right: 1em; text-align: center; vertical-align: top\">-6401643145415154744</td>\n",
       "        <td style=\"padding-left: 1em; padding-right: 1em; text-align: center; vertical-align: top\">2016-05-01 00:54:12</td>\n",
       "        <td style=\"padding-left: 1em; padding-right: 1em; text-align: center; vertical-align: top\">103.65</td>\n",
       "        <td style=\"padding-left: 1em; padding-right: 1em; text-align: center; vertical-align: top\">30.97</td>\n",
       "        <td style=\"padding-left: 1em; padding-right: 1em; text-align: center; vertical-align: top\">{5927333115845830913: 1,<br>4775896950989639373: 1, ...</td>\n",
       "    </tr>\n",
       "    <tr>\n",
       "        <td style=\"padding-left: 1em; padding-right: 1em; text-align: center; vertical-align: top\">7</td>\n",
       "        <td style=\"padding-left: 1em; padding-right: 1em; text-align: center; vertical-align: top\">5990807147117726237</td>\n",
       "        <td style=\"padding-left: 1em; padding-right: 1em; text-align: center; vertical-align: top\">2016-05-01 00:15:13</td>\n",
       "        <td style=\"padding-left: 1em; padding-right: 1em; text-align: center; vertical-align: top\">113.73</td>\n",
       "        <td style=\"padding-left: 1em; padding-right: 1em; text-align: center; vertical-align: top\">23.0</td>\n",
       "        <td style=\"padding-left: 1em; padding-right: 1em; text-align: center; vertical-align: top\">{33792862810792679: 1,<br>487766649788038994: 1, ...</td>\n",
       "    </tr>\n",
       "    <tr>\n",
       "        <td style=\"padding-left: 1em; padding-right: 1em; text-align: center; vertical-align: top\">9</td>\n",
       "        <td style=\"padding-left: 1em; padding-right: 1em; text-align: center; vertical-align: top\">-2073340001552902943</td>\n",
       "        <td style=\"padding-left: 1em; padding-right: 1em; text-align: center; vertical-align: top\">2016-05-01 00:15:33</td>\n",
       "        <td style=\"padding-left: 1em; padding-right: 1em; text-align: center; vertical-align: top\">0.0</td>\n",
       "        <td style=\"padding-left: 1em; padding-right: 1em; text-align: center; vertical-align: top\">0.0</td>\n",
       "        <td style=\"padding-left: 1em; padding-right: 1em; text-align: center; vertical-align: top\">{-332792151099088795: 1,<br>5099453940784075687: 1, ...</td>\n",
       "    </tr>\n",
       "</table>\n",
       "<table frame=\"box\" rules=\"cols\">\n",
       "    <tr>\n",
       "        <th style=\"padding-left: 1em; padding-right: 1em; text-align: center\">installed</th>\n",
       "    </tr>\n",
       "    <tr>\n",
       "        <td style=\"padding-left: 1em; padding-right: 1em; text-align: center; vertical-align: top\">{-1758857579862594461: 1,<br>3717049149426646122: 1, ...</td>\n",
       "    </tr>\n",
       "    <tr>\n",
       "        <td style=\"padding-left: 1em; padding-right: 1em; text-align: center; vertical-align: top\">{-1633933922436094199: 1,<br>-607956450007961078: 1, ...</td>\n",
       "    </tr>\n",
       "    <tr>\n",
       "        <td style=\"padding-left: 1em; padding-right: 1em; text-align: center; vertical-align: top\">{5927333115845830913: 1,<br>6279509966423362439: 1, ...</td>\n",
       "    </tr>\n",
       "</table>\n",
       "[3 rows x 7 columns]<br/>\n",
       "</div>"
      ],
      "text/plain": [
       "Columns:\n",
       "\tevent_id\tint\n",
       "\tdevice_id\tint\n",
       "\ttimestamp\tdatetime\n",
       "\tlongitude\tfloat\n",
       "\tlatitude\tfloat\n",
       "\tactive\tdict\n",
       "\tinstalled\tdict\n",
       "\n",
       "Rows: 3\n",
       "\n",
       "Data:\n",
       "+----------+----------------------+---------------------+-----------+----------+\n",
       "| event_id |      device_id       |      timestamp      | longitude | latitude |\n",
       "+----------+----------------------+---------------------+-----------+----------+\n",
       "|    2     | -6401643145415154744 | 2016-05-01 00:54:12 |   103.65  |  30.97   |\n",
       "|    7     | 5990807147117726237  | 2016-05-01 00:15:13 |   113.73  |   23.0   |\n",
       "|    9     | -2073340001552902943 | 2016-05-01 00:15:33 |    0.0    |   0.0    |\n",
       "+----------+----------------------+---------------------+-----------+----------+\n",
       "+-------------------------------+-------------------------------+\n",
       "|             active            |           installed           |\n",
       "+-------------------------------+-------------------------------+\n",
       "| {5927333115845830913: 1, 4... | {-1758857579862594461: 1, ... |\n",
       "| {33792862810792679: 1, 487... | {-1633933922436094199: 1, ... |\n",
       "| {-332792151099088795: 1, 5... | {5927333115845830913: 1, 6... |\n",
       "+-------------------------------+-------------------------------+\n",
       "[3 rows x 7 columns]"
      ]
     },
     "execution_count": 34,
     "metadata": {},
     "output_type": "execute_result"
    }
   ],
   "source": [
    "test.head(3)"
   ]
  },
  {
   "cell_type": "markdown",
   "metadata": {},
   "source": [
    "Now I'll use the model to predict a probability vector for each of the events in the `test` SFrame. This will pose a problem, as now we have multiple predictions for each device_id (when the device_id has more than one events)."
   ]
  },
  {
   "cell_type": "code",
   "execution_count": 35,
   "metadata": {
    "collapsed": false
   },
   "outputs": [
    {
     "data": {
      "text/html": [
       "<pre>External memory mode: 5 batches</pre>"
      ],
      "text/plain": [
       "External memory mode: 5 batches"
      ]
     },
     "metadata": {},
     "output_type": "display_data"
    },
    {
     "data": {
      "text/html": [
       "<div style=\"max-height:1000px;max-width:1500px;overflow:auto;\"><table frame=\"box\" rules=\"cols\">\n",
       "    <tr>\n",
       "        <th style=\"padding-left: 1em; padding-right: 1em; text-align: center\">device_id</th>\n",
       "        <th style=\"padding-left: 1em; padding-right: 1em; text-align: center\">predict</th>\n",
       "    </tr>\n",
       "    <tr>\n",
       "        <td style=\"padding-left: 1em; padding-right: 1em; text-align: center; vertical-align: top\">-9222661944218806987</td>\n",
       "        <td style=\"padding-left: 1em; padding-right: 1em; text-align: center; vertical-align: top\">[0.0406686961651,<br>0.0444855690002, ...</td>\n",
       "    </tr>\n",
       "    <tr>\n",
       "        <td style=\"padding-left: 1em; padding-right: 1em; text-align: center; vertical-align: top\">-9222661944218806987</td>\n",
       "        <td style=\"padding-left: 1em; padding-right: 1em; text-align: center; vertical-align: top\">[0.0413026362658,<br>0.0451790057123, ...</td>\n",
       "    </tr>\n",
       "    <tr>\n",
       "        <td style=\"padding-left: 1em; padding-right: 1em; text-align: center; vertical-align: top\">-9222661944218806987</td>\n",
       "        <td style=\"padding-left: 1em; padding-right: 1em; text-align: center; vertical-align: top\">[0.0397630110383,<br>0.0474216490984, ...</td>\n",
       "    </tr>\n",
       "    <tr>\n",
       "        <td style=\"padding-left: 1em; padding-right: 1em; text-align: center; vertical-align: top\">-9222661944218806987</td>\n",
       "        <td style=\"padding-left: 1em; padding-right: 1em; text-align: center; vertical-align: top\">[0.040388636291,<br>0.0441792234778, ...</td>\n",
       "    </tr>\n",
       "    <tr>\n",
       "        <td style=\"padding-left: 1em; padding-right: 1em; text-align: center; vertical-align: top\">-9222661944218806987</td>\n",
       "        <td style=\"padding-left: 1em; padding-right: 1em; text-align: center; vertical-align: top\">[0.0413026362658,<br>0.0451790057123, ...</td>\n",
       "    </tr>\n",
       "    <tr>\n",
       "        <td style=\"padding-left: 1em; padding-right: 1em; text-align: center; vertical-align: top\">-9222661944218806987</td>\n",
       "        <td style=\"padding-left: 1em; padding-right: 1em; text-align: center; vertical-align: top\">[0.0433587320149,<br>0.0474280789495, ...</td>\n",
       "    </tr>\n",
       "    <tr>\n",
       "        <td style=\"padding-left: 1em; padding-right: 1em; text-align: center; vertical-align: top\">-9222661944218806987</td>\n",
       "        <td style=\"padding-left: 1em; padding-right: 1em; text-align: center; vertical-align: top\">[0.044090859592,<br>0.0482289195061, ...</td>\n",
       "    </tr>\n",
       "    <tr>\n",
       "        <td style=\"padding-left: 1em; padding-right: 1em; text-align: center; vertical-align: top\">-9222661944218806987</td>\n",
       "        <td style=\"padding-left: 1em; padding-right: 1em; text-align: center; vertical-align: top\">[0.0413026362658,<br>0.0451790057123, ...</td>\n",
       "    </tr>\n",
       "    <tr>\n",
       "        <td style=\"padding-left: 1em; padding-right: 1em; text-align: center; vertical-align: top\">-9222399302879214035</td>\n",
       "        <td style=\"padding-left: 1em; padding-right: 1em; text-align: center; vertical-align: top\">[0.0341429449618,<br>0.0373473539948, ...</td>\n",
       "    </tr>\n",
       "    <tr>\n",
       "        <td style=\"padding-left: 1em; padding-right: 1em; text-align: center; vertical-align: top\">-9222399302879214035</td>\n",
       "        <td style=\"padding-left: 1em; padding-right: 1em; text-align: center; vertical-align: top\">[0.034290291369,<br>0.0375085324049, ...</td>\n",
       "    </tr>\n",
       "</table>\n",
       "[889770 rows x 2 columns]<br/>Note: Only the head of the SFrame is printed.<br/>You can use print_rows(num_rows=m, num_columns=n) to print more rows and columns.\n",
       "</div>"
      ],
      "text/plain": [
       "Columns:\n",
       "\tdevice_id\tint\n",
       "\tpredict\tarray\n",
       "\n",
       "Rows: 889770\n",
       "\n",
       "Data:\n",
       "+----------------------+-------------------------------+\n",
       "|      device_id       |            predict            |\n",
       "+----------------------+-------------------------------+\n",
       "| -9222661944218806987 | [0.0406686961651, 0.044485... |\n",
       "| -9222661944218806987 | [0.0413026362658, 0.045179... |\n",
       "| -9222661944218806987 | [0.0397630110383, 0.047421... |\n",
       "| -9222661944218806987 | [0.040388636291, 0.0441792... |\n",
       "| -9222661944218806987 | [0.0413026362658, 0.045179... |\n",
       "| -9222661944218806987 | [0.0433587320149, 0.047428... |\n",
       "| -9222661944218806987 | [0.044090859592, 0.0482289... |\n",
       "| -9222661944218806987 | [0.0413026362658, 0.045179... |\n",
       "| -9222399302879214035 | [0.0341429449618, 0.037347... |\n",
       "| -9222399302879214035 | [0.034290291369, 0.0375085... |\n",
       "+----------------------+-------------------------------+\n",
       "[889770 rows x 2 columns]\n",
       "Note: Only the head of the SFrame is printed.\n",
       "You can use print_rows(num_rows=m, num_columns=n) to print more rows and columns."
      ]
     },
     "execution_count": 35,
     "metadata": {},
     "output_type": "execute_result"
    }
   ],
   "source": [
    "results = gl.SFrame(test[[\"device_id\"]])\n",
    "results[\"predict\"] = model.predict(test, output_type=\"probability_vector\")\n",
    "results.sort(\"device_id\")"
   ]
  },
  {
   "cell_type": "markdown",
   "metadata": {},
   "source": [
    "I'll choose the aggergate the results per `device_id` by averaging the probability vectors."
   ]
  },
  {
   "cell_type": "code",
   "execution_count": 36,
   "metadata": {
    "collapsed": false
   },
   "outputs": [
    {
     "data": {
      "text/html": [
       "<div style=\"max-height:1000px;max-width:1500px;overflow:auto;\"><table frame=\"box\" rules=\"cols\">\n",
       "    <tr>\n",
       "        <th style=\"padding-left: 1em; padding-right: 1em; text-align: center\">device_id</th>\n",
       "        <th style=\"padding-left: 1em; padding-right: 1em; text-align: center\">predict</th>\n",
       "    </tr>\n",
       "    <tr>\n",
       "        <td style=\"padding-left: 1em; padding-right: 1em; text-align: center; vertical-align: top\">-4455230124644815790</td>\n",
       "        <td style=\"padding-left: 1em; padding-right: 1em; text-align: center; vertical-align: top\">[0.0341725138715,<br>0.0373797060456, ...</td>\n",
       "    </tr>\n",
       "    <tr>\n",
       "        <td style=\"padding-left: 1em; padding-right: 1em; text-align: center; vertical-align: top\">6613624870840984795</td>\n",
       "        <td style=\"padding-left: 1em; padding-right: 1em; text-align: center; vertical-align: top\">[0.0431418456137,<br>0.0471908301115, ...</td>\n",
       "    </tr>\n",
       "    <tr>\n",
       "        <td style=\"padding-left: 1em; padding-right: 1em; text-align: center; vertical-align: top\">2660355718062911483</td>\n",
       "        <td style=\"padding-left: 1em; padding-right: 1em; text-align: center; vertical-align: top\">[0.0407662391663,<br>0.0445922724903, ...</td>\n",
       "    </tr>\n",
       "</table>\n",
       "[3 rows x 2 columns]<br/>\n",
       "</div>"
      ],
      "text/plain": [
       "Columns:\n",
       "\tdevice_id\tint\n",
       "\tpredict\tarray\n",
       "\n",
       "Rows: 3\n",
       "\n",
       "Data:\n",
       "+----------------------+-------------------------------+\n",
       "|      device_id       |            predict            |\n",
       "+----------------------+-------------------------------+\n",
       "| -4455230124644815790 | [0.0341725138715, 0.037379... |\n",
       "| 6613624870840984795  | [0.0431418456137, 0.047190... |\n",
       "| 2660355718062911483  | [0.0407662391663, 0.044592... |\n",
       "+----------------------+-------------------------------+\n",
       "[3 rows x 2 columns]"
      ]
     },
     "execution_count": 36,
     "metadata": {},
     "output_type": "execute_result"
    }
   ],
   "source": [
    "results_agg = results.groupby(\"device_id\", {\n",
    "        \"predict\": gl.aggregate.AVG(\"predict\"),\n",
    "    })\n",
    "results_agg.head(3)"
   ]
  },
  {
   "cell_type": "markdown",
   "metadata": {},
   "source": [
    "Now it's time to unpack the probability vectors according to the class labels. I'll pick the class labels from the `sample_submission` SFrame, where all classes are represented. The probability vector is ordered according to the natural ordering (read: Python's `sorted()` result) on the class labels."
   ]
  },
  {
   "cell_type": "code",
   "execution_count": 37,
   "metadata": {
    "collapsed": false
   },
   "outputs": [],
   "source": [
    "classes = sorted(sample_submission.column_names())\n",
    "classes.remove(\"device_id\")"
   ]
  },
  {
   "cell_type": "markdown",
   "metadata": {},
   "source": [
    "With this knowledge, it's easy to do the unpacking ourselves:"
   ]
  },
  {
   "cell_type": "code",
   "execution_count": 38,
   "metadata": {
    "collapsed": true
   },
   "outputs": [],
   "source": [
    "for i, label in enumerate(classes):\n",
    "    results_agg[label] = results_agg[\"predict\"].apply(lambda lst:lst[i])\n",
    "\n",
    "submission = results_agg[[\"device_id\"] + classes]"
   ]
  },
  {
   "cell_type": "markdown",
   "metadata": {},
   "source": [
    "Let's look at the submission."
   ]
  },
  {
   "cell_type": "code",
   "execution_count": 39,
   "metadata": {
    "collapsed": false
   },
   "outputs": [
    {
     "data": {
      "text/html": [
       "<div style=\"max-height:1000px;max-width:1500px;overflow:auto;\"><table frame=\"box\" rules=\"cols\">\n",
       "    <tr>\n",
       "        <th style=\"padding-left: 1em; padding-right: 1em; text-align: center\">device_id</th>\n",
       "        <th style=\"padding-left: 1em; padding-right: 1em; text-align: center\">F23-</th>\n",
       "        <th style=\"padding-left: 1em; padding-right: 1em; text-align: center\">F24-26</th>\n",
       "        <th style=\"padding-left: 1em; padding-right: 1em; text-align: center\">F27-28</th>\n",
       "        <th style=\"padding-left: 1em; padding-right: 1em; text-align: center\">F29-32</th>\n",
       "        <th style=\"padding-left: 1em; padding-right: 1em; text-align: center\">F33-42</th>\n",
       "    </tr>\n",
       "    <tr>\n",
       "        <td style=\"padding-left: 1em; padding-right: 1em; text-align: center; vertical-align: top\">-4455230124644815790</td>\n",
       "        <td style=\"padding-left: 1em; padding-right: 1em; text-align: center; vertical-align: top\">0.0341725138715</td>\n",
       "        <td style=\"padding-left: 1em; padding-right: 1em; text-align: center; vertical-align: top\">0.0373797060456</td>\n",
       "        <td style=\"padding-left: 1em; padding-right: 1em; text-align: center; vertical-align: top\">0.0357922750991</td>\n",
       "        <td style=\"padding-left: 1em; padding-right: 1em; text-align: center; vertical-align: top\">0.049911536742</td>\n",
       "        <td style=\"padding-left: 1em; padding-right: 1em; text-align: center; vertical-align: top\">0.0609928842168</td>\n",
       "    </tr>\n",
       "    <tr>\n",
       "        <td style=\"padding-left: 1em; padding-right: 1em; text-align: center; vertical-align: top\">6613624870840984795</td>\n",
       "        <td style=\"padding-left: 1em; padding-right: 1em; text-align: center; vertical-align: top\">0.0431418456137</td>\n",
       "        <td style=\"padding-left: 1em; padding-right: 1em; text-align: center; vertical-align: top\">0.0471908301115</td>\n",
       "        <td style=\"padding-left: 1em; padding-right: 1em; text-align: center; vertical-align: top\">0.0451867468655</td>\n",
       "        <td style=\"padding-left: 1em; padding-right: 1em; text-align: center; vertical-align: top\">0.0525502227247</td>\n",
       "        <td style=\"padding-left: 1em; padding-right: 1em; text-align: center; vertical-align: top\">0.075110450387</td>\n",
       "    </tr>\n",
       "    <tr>\n",
       "        <td style=\"padding-left: 1em; padding-right: 1em; text-align: center; vertical-align: top\">2660355718062911483</td>\n",
       "        <td style=\"padding-left: 1em; padding-right: 1em; text-align: center; vertical-align: top\">0.0407662391663</td>\n",
       "        <td style=\"padding-left: 1em; padding-right: 1em; text-align: center; vertical-align: top\">0.0445922724903</td>\n",
       "        <td style=\"padding-left: 1em; padding-right: 1em; text-align: center; vertical-align: top\">0.0426985360682</td>\n",
       "        <td style=\"padding-left: 1em; padding-right: 1em; text-align: center; vertical-align: top\">0.0595421716571</td>\n",
       "        <td style=\"padding-left: 1em; padding-right: 1em; text-align: center; vertical-align: top\">0.0769132003188</td>\n",
       "    </tr>\n",
       "</table>\n",
       "<table frame=\"box\" rules=\"cols\">\n",
       "    <tr>\n",
       "        <th style=\"padding-left: 1em; padding-right: 1em; text-align: center\">F43+</th>\n",
       "        <th style=\"padding-left: 1em; padding-right: 1em; text-align: center\">M22-</th>\n",
       "        <th style=\"padding-left: 1em; padding-right: 1em; text-align: center\">M23-26</th>\n",
       "        <th style=\"padding-left: 1em; padding-right: 1em; text-align: center\">M27-28</th>\n",
       "        <th style=\"padding-left: 1em; padding-right: 1em; text-align: center\">M29-31</th>\n",
       "        <th style=\"padding-left: 1em; padding-right: 1em; text-align: center\">M32-38</th>\n",
       "    </tr>\n",
       "    <tr>\n",
       "        <td style=\"padding-left: 1em; padding-right: 1em; text-align: center; vertical-align: top\">0.057933524251</td>\n",
       "        <td style=\"padding-left: 1em; padding-right: 1em; text-align: center; vertical-align: top\">0.0745691508055</td>\n",
       "        <td style=\"padding-left: 1em; padding-right: 1em; text-align: center; vertical-align: top\">0.158295459114</td>\n",
       "        <td style=\"padding-left: 1em; padding-right: 1em; text-align: center; vertical-align: top\">0.0604897357989</td>\n",
       "        <td style=\"padding-left: 1em; padding-right: 1em; text-align: center; vertical-align: top\">0.0836647781543</td>\n",
       "        <td style=\"padding-left: 1em; padding-right: 1em; text-align: center; vertical-align: top\">0.147407517768</td>\n",
       "    </tr>\n",
       "    <tr>\n",
       "        <td style=\"padding-left: 1em; padding-right: 1em; text-align: center; vertical-align: top\">0.0253774523735</td>\n",
       "        <td style=\"padding-left: 1em; padding-right: 1em; text-align: center; vertical-align: top\">0.0793024078012</td>\n",
       "        <td style=\"padding-left: 1em; padding-right: 1em; text-align: center; vertical-align: top\">0.157966941595</td>\n",
       "        <td style=\"padding-left: 1em; padding-right: 1em; text-align: center; vertical-align: top\">0.10948343575</td>\n",
       "        <td style=\"padding-left: 1em; padding-right: 1em; text-align: center; vertical-align: top\">0.117965810001</td>\n",
       "        <td style=\"padding-left: 1em; padding-right: 1em; text-align: center; vertical-align: top\">0.148551955819</td>\n",
       "    </tr>\n",
       "    <tr>\n",
       "        <td style=\"padding-left: 1em; padding-right: 1em; text-align: center; vertical-align: top\">0.0691120326519</td>\n",
       "        <td style=\"padding-left: 1em; padding-right: 1em; text-align: center; vertical-align: top\">0.0749356374145</td>\n",
       "        <td style=\"padding-left: 1em; padding-right: 1em; text-align: center; vertical-align: top\">0.117746852338</td>\n",
       "        <td style=\"padding-left: 1em; padding-right: 1em; text-align: center; vertical-align: top\">0.0721614807844</td>\n",
       "        <td style=\"padding-left: 1em; padding-right: 1em; text-align: center; vertical-align: top\">0.0998082384467</td>\n",
       "        <td style=\"padding-left: 1em; padding-right: 1em; text-align: center; vertical-align: top\">0.160627260804</td>\n",
       "    </tr>\n",
       "</table>\n",
       "<table frame=\"box\" rules=\"cols\">\n",
       "    <tr>\n",
       "        <th style=\"padding-left: 1em; padding-right: 1em; text-align: center\">M39+</th>\n",
       "    </tr>\n",
       "    <tr>\n",
       "        <td style=\"padding-left: 1em; padding-right: 1em; text-align: center; vertical-align: top\">0.199390940368</td>\n",
       "    </tr>\n",
       "    <tr>\n",
       "        <td style=\"padding-left: 1em; padding-right: 1em; text-align: center; vertical-align: top\">0.0981718748808</td>\n",
       "    </tr>\n",
       "    <tr>\n",
       "        <td style=\"padding-left: 1em; padding-right: 1em; text-align: center; vertical-align: top\">0.141096070409</td>\n",
       "    </tr>\n",
       "</table>\n",
       "[3 rows x 13 columns]<br/>\n",
       "</div>"
      ],
      "text/plain": [
       "Columns:\n",
       "\tdevice_id\tint\n",
       "\tF23-\tfloat\n",
       "\tF24-26\tfloat\n",
       "\tF27-28\tfloat\n",
       "\tF29-32\tfloat\n",
       "\tF33-42\tfloat\n",
       "\tF43+\tfloat\n",
       "\tM22-\tfloat\n",
       "\tM23-26\tfloat\n",
       "\tM27-28\tfloat\n",
       "\tM29-31\tfloat\n",
       "\tM32-38\tfloat\n",
       "\tM39+\tfloat\n",
       "\n",
       "Rows: 3\n",
       "\n",
       "Data:\n",
       "+----------------------+-----------------+-----------------+-----------------+\n",
       "|      device_id       |       F23-      |      F24-26     |      F27-28     |\n",
       "+----------------------+-----------------+-----------------+-----------------+\n",
       "| -4455230124644815790 | 0.0341725138715 | 0.0373797060456 | 0.0357922750991 |\n",
       "| 6613624870840984795  | 0.0431418456137 | 0.0471908301115 | 0.0451867468655 |\n",
       "| 2660355718062911483  | 0.0407662391663 | 0.0445922724903 | 0.0426985360682 |\n",
       "+----------------------+-----------------+-----------------+-----------------+\n",
       "+-----------------+-----------------+-----------------+-----------------+\n",
       "|      F29-32     |      F33-42     |       F43+      |       M22-      |\n",
       "+-----------------+-----------------+-----------------+-----------------+\n",
       "|  0.049911536742 | 0.0609928842168 |  0.057933524251 | 0.0745691508055 |\n",
       "| 0.0525502227247 |  0.075110450387 | 0.0253774523735 | 0.0793024078012 |\n",
       "| 0.0595421716571 | 0.0769132003188 | 0.0691120326519 | 0.0749356374145 |\n",
       "+-----------------+-----------------+-----------------+-----------------+\n",
       "+----------------+-----------------+-----------------+----------------+\n",
       "|     M23-26     |      M27-28     |      M29-31     |     M32-38     |\n",
       "+----------------+-----------------+-----------------+----------------+\n",
       "| 0.158295459114 | 0.0604897357989 | 0.0836647781543 | 0.147407517768 |\n",
       "| 0.157966941595 |  0.10948343575  |  0.117965810001 | 0.148551955819 |\n",
       "| 0.117746852338 | 0.0721614807844 | 0.0998082384467 | 0.160627260804 |\n",
       "+----------------+-----------------+-----------------+----------------+\n",
       "+-----------------+\n",
       "|       M39+      |\n",
       "+-----------------+\n",
       "|  0.199390940368 |\n",
       "| 0.0981718748808 |\n",
       "|  0.141096070409 |\n",
       "+-----------------+\n",
       "[3 rows x 13 columns]"
      ]
     },
     "execution_count": 39,
     "metadata": {},
     "output_type": "execute_result"
    }
   ],
   "source": [
    "submission.head(3)"
   ]
  },
  {
   "cell_type": "markdown",
   "metadata": {},
   "source": [
    "Looks like the sample submssion! Nice, isn't it?\n",
    "\n",
    "I'll spoil it in advance: actually, no!\n",
    "\n",
    "The size of our submission is way smaller than it should be:"
   ]
  },
  {
   "cell_type": "code",
   "execution_count": 40,
   "metadata": {
    "collapsed": false
   },
   "outputs": [
    {
     "name": "stdout",
     "output_type": "stream",
     "text": [
      "len() of submission: 35172\n",
      "len() for gender_age_test: 112071\n"
     ]
    }
   ],
   "source": [
    "print \"len() of submission: %d\" % len(submission)\n",
    "print \"len() for gender_age_test: %d\" % len(gender_age_test)"
   ]
  },
  {
   "cell_type": "markdown",
   "metadata": {},
   "source": [
    "This happens because we relied heavily on app_events data, which many devices in our dataset simply don't have."
   ]
  },
  {
   "cell_type": "code",
   "execution_count": 41,
   "metadata": {
    "collapsed": false
   },
   "outputs": [
    {
     "name": "stdout",
     "output_type": "stream",
     "text": [
      "Number of devices in gender_age_test that have events: 35194\n"
     ]
    }
   ],
   "source": [
    "print \"Number of devices in gender_age_test that have events: %d\" % len(set(gender_age_test[\"device_id\"]) & set(events[\"device_id\"]))"
   ]
  },
  {
   "cell_type": "markdown",
   "metadata": {},
   "source": [
    "Seems that we also lost some data on the way (35172 < 35194). This way or the other, we have to pad our submission with same default values for the missing device IDs. Let's take those rows from the sample submission."
   ]
  },
  {
   "cell_type": "code",
   "execution_count": 42,
   "metadata": {
    "collapsed": false
   },
   "outputs": [],
   "source": [
    "def pad_submission_sf(submission):\n",
    "    return submission.append(sample_submission.filter_by(submission[\"device_id\"], \"device_id\", exclude=True))"
   ]
  },
  {
   "cell_type": "code",
   "execution_count": 43,
   "metadata": {
    "collapsed": false
   },
   "outputs": [
    {
     "data": {
      "text/html": [
       "<div style=\"max-height:1000px;max-width:1500px;overflow:auto;\"><table frame=\"box\" rules=\"cols\">\n",
       "    <tr>\n",
       "        <th style=\"padding-left: 1em; padding-right: 1em; text-align: center\">device_id</th>\n",
       "        <th style=\"padding-left: 1em; padding-right: 1em; text-align: center\">F23-</th>\n",
       "        <th style=\"padding-left: 1em; padding-right: 1em; text-align: center\">F24-26</th>\n",
       "        <th style=\"padding-left: 1em; padding-right: 1em; text-align: center\">F27-28</th>\n",
       "        <th style=\"padding-left: 1em; padding-right: 1em; text-align: center\">F29-32</th>\n",
       "        <th style=\"padding-left: 1em; padding-right: 1em; text-align: center\">F33-42</th>\n",
       "    </tr>\n",
       "    <tr>\n",
       "        <td style=\"padding-left: 1em; padding-right: 1em; text-align: center; vertical-align: top\">-4455230124644815790</td>\n",
       "        <td style=\"padding-left: 1em; padding-right: 1em; text-align: center; vertical-align: top\">0.0341725138715</td>\n",
       "        <td style=\"padding-left: 1em; padding-right: 1em; text-align: center; vertical-align: top\">0.0373797060456</td>\n",
       "        <td style=\"padding-left: 1em; padding-right: 1em; text-align: center; vertical-align: top\">0.0357922750991</td>\n",
       "        <td style=\"padding-left: 1em; padding-right: 1em; text-align: center; vertical-align: top\">0.049911536742</td>\n",
       "        <td style=\"padding-left: 1em; padding-right: 1em; text-align: center; vertical-align: top\">0.0609928842168</td>\n",
       "    </tr>\n",
       "    <tr>\n",
       "        <td style=\"padding-left: 1em; padding-right: 1em; text-align: center; vertical-align: top\">6613624870840984795</td>\n",
       "        <td style=\"padding-left: 1em; padding-right: 1em; text-align: center; vertical-align: top\">0.0431418456137</td>\n",
       "        <td style=\"padding-left: 1em; padding-right: 1em; text-align: center; vertical-align: top\">0.0471908301115</td>\n",
       "        <td style=\"padding-left: 1em; padding-right: 1em; text-align: center; vertical-align: top\">0.0451867468655</td>\n",
       "        <td style=\"padding-left: 1em; padding-right: 1em; text-align: center; vertical-align: top\">0.0525502227247</td>\n",
       "        <td style=\"padding-left: 1em; padding-right: 1em; text-align: center; vertical-align: top\">0.075110450387</td>\n",
       "    </tr>\n",
       "    <tr>\n",
       "        <td style=\"padding-left: 1em; padding-right: 1em; text-align: center; vertical-align: top\">2660355718062911483</td>\n",
       "        <td style=\"padding-left: 1em; padding-right: 1em; text-align: center; vertical-align: top\">0.0407662391663</td>\n",
       "        <td style=\"padding-left: 1em; padding-right: 1em; text-align: center; vertical-align: top\">0.0445922724903</td>\n",
       "        <td style=\"padding-left: 1em; padding-right: 1em; text-align: center; vertical-align: top\">0.0426985360682</td>\n",
       "        <td style=\"padding-left: 1em; padding-right: 1em; text-align: center; vertical-align: top\">0.0595421716571</td>\n",
       "        <td style=\"padding-left: 1em; padding-right: 1em; text-align: center; vertical-align: top\">0.0769132003188</td>\n",
       "    </tr>\n",
       "</table>\n",
       "<table frame=\"box\" rules=\"cols\">\n",
       "    <tr>\n",
       "        <th style=\"padding-left: 1em; padding-right: 1em; text-align: center\">F43+</th>\n",
       "        <th style=\"padding-left: 1em; padding-right: 1em; text-align: center\">M22-</th>\n",
       "        <th style=\"padding-left: 1em; padding-right: 1em; text-align: center\">M23-26</th>\n",
       "        <th style=\"padding-left: 1em; padding-right: 1em; text-align: center\">M27-28</th>\n",
       "        <th style=\"padding-left: 1em; padding-right: 1em; text-align: center\">M29-31</th>\n",
       "        <th style=\"padding-left: 1em; padding-right: 1em; text-align: center\">M32-38</th>\n",
       "    </tr>\n",
       "    <tr>\n",
       "        <td style=\"padding-left: 1em; padding-right: 1em; text-align: center; vertical-align: top\">0.057933524251</td>\n",
       "        <td style=\"padding-left: 1em; padding-right: 1em; text-align: center; vertical-align: top\">0.0745691508055</td>\n",
       "        <td style=\"padding-left: 1em; padding-right: 1em; text-align: center; vertical-align: top\">0.158295459114</td>\n",
       "        <td style=\"padding-left: 1em; padding-right: 1em; text-align: center; vertical-align: top\">0.0604897357989</td>\n",
       "        <td style=\"padding-left: 1em; padding-right: 1em; text-align: center; vertical-align: top\">0.0836647781543</td>\n",
       "        <td style=\"padding-left: 1em; padding-right: 1em; text-align: center; vertical-align: top\">0.147407517768</td>\n",
       "    </tr>\n",
       "    <tr>\n",
       "        <td style=\"padding-left: 1em; padding-right: 1em; text-align: center; vertical-align: top\">0.0253774523735</td>\n",
       "        <td style=\"padding-left: 1em; padding-right: 1em; text-align: center; vertical-align: top\">0.0793024078012</td>\n",
       "        <td style=\"padding-left: 1em; padding-right: 1em; text-align: center; vertical-align: top\">0.157966941595</td>\n",
       "        <td style=\"padding-left: 1em; padding-right: 1em; text-align: center; vertical-align: top\">0.10948343575</td>\n",
       "        <td style=\"padding-left: 1em; padding-right: 1em; text-align: center; vertical-align: top\">0.117965810001</td>\n",
       "        <td style=\"padding-left: 1em; padding-right: 1em; text-align: center; vertical-align: top\">0.148551955819</td>\n",
       "    </tr>\n",
       "    <tr>\n",
       "        <td style=\"padding-left: 1em; padding-right: 1em; text-align: center; vertical-align: top\">0.0691120326519</td>\n",
       "        <td style=\"padding-left: 1em; padding-right: 1em; text-align: center; vertical-align: top\">0.0749356374145</td>\n",
       "        <td style=\"padding-left: 1em; padding-right: 1em; text-align: center; vertical-align: top\">0.117746852338</td>\n",
       "        <td style=\"padding-left: 1em; padding-right: 1em; text-align: center; vertical-align: top\">0.0721614807844</td>\n",
       "        <td style=\"padding-left: 1em; padding-right: 1em; text-align: center; vertical-align: top\">0.0998082384467</td>\n",
       "        <td style=\"padding-left: 1em; padding-right: 1em; text-align: center; vertical-align: top\">0.160627260804</td>\n",
       "    </tr>\n",
       "</table>\n",
       "<table frame=\"box\" rules=\"cols\">\n",
       "    <tr>\n",
       "        <th style=\"padding-left: 1em; padding-right: 1em; text-align: center\">M39+</th>\n",
       "    </tr>\n",
       "    <tr>\n",
       "        <td style=\"padding-left: 1em; padding-right: 1em; text-align: center; vertical-align: top\">0.199390940368</td>\n",
       "    </tr>\n",
       "    <tr>\n",
       "        <td style=\"padding-left: 1em; padding-right: 1em; text-align: center; vertical-align: top\">0.0981718748808</td>\n",
       "    </tr>\n",
       "    <tr>\n",
       "        <td style=\"padding-left: 1em; padding-right: 1em; text-align: center; vertical-align: top\">0.141096070409</td>\n",
       "    </tr>\n",
       "</table>\n",
       "[3 rows x 13 columns]<br/>\n",
       "</div>"
      ],
      "text/plain": [
       "Columns:\n",
       "\tdevice_id\tint\n",
       "\tF23-\tfloat\n",
       "\tF24-26\tfloat\n",
       "\tF27-28\tfloat\n",
       "\tF29-32\tfloat\n",
       "\tF33-42\tfloat\n",
       "\tF43+\tfloat\n",
       "\tM22-\tfloat\n",
       "\tM23-26\tfloat\n",
       "\tM27-28\tfloat\n",
       "\tM29-31\tfloat\n",
       "\tM32-38\tfloat\n",
       "\tM39+\tfloat\n",
       "\n",
       "Rows: 3\n",
       "\n",
       "Data:\n",
       "+----------------------+-----------------+-----------------+-----------------+\n",
       "|      device_id       |       F23-      |      F24-26     |      F27-28     |\n",
       "+----------------------+-----------------+-----------------+-----------------+\n",
       "| -4455230124644815790 | 0.0341725138715 | 0.0373797060456 | 0.0357922750991 |\n",
       "| 6613624870840984795  | 0.0431418456137 | 0.0471908301115 | 0.0451867468655 |\n",
       "| 2660355718062911483  | 0.0407662391663 | 0.0445922724903 | 0.0426985360682 |\n",
       "+----------------------+-----------------+-----------------+-----------------+\n",
       "+-----------------+-----------------+-----------------+-----------------+\n",
       "|      F29-32     |      F33-42     |       F43+      |       M22-      |\n",
       "+-----------------+-----------------+-----------------+-----------------+\n",
       "|  0.049911536742 | 0.0609928842168 |  0.057933524251 | 0.0745691508055 |\n",
       "| 0.0525502227247 |  0.075110450387 | 0.0253774523735 | 0.0793024078012 |\n",
       "| 0.0595421716571 | 0.0769132003188 | 0.0691120326519 | 0.0749356374145 |\n",
       "+-----------------+-----------------+-----------------+-----------------+\n",
       "+----------------+-----------------+-----------------+----------------+\n",
       "|     M23-26     |      M27-28     |      M29-31     |     M32-38     |\n",
       "+----------------+-----------------+-----------------+----------------+\n",
       "| 0.158295459114 | 0.0604897357989 | 0.0836647781543 | 0.147407517768 |\n",
       "| 0.157966941595 |  0.10948343575  |  0.117965810001 | 0.148551955819 |\n",
       "| 0.117746852338 | 0.0721614807844 | 0.0998082384467 | 0.160627260804 |\n",
       "+----------------+-----------------+-----------------+----------------+\n",
       "+-----------------+\n",
       "|       M39+      |\n",
       "+-----------------+\n",
       "|  0.199390940368 |\n",
       "| 0.0981718748808 |\n",
       "|  0.141096070409 |\n",
       "+-----------------+\n",
       "[3 rows x 13 columns]"
      ]
     },
     "execution_count": 43,
     "metadata": {},
     "output_type": "execute_result"
    }
   ],
   "source": [
    "my_submission_sf = pad_submission_sf(submission)\n",
    "my_submission_sf.head(3)"
   ]
  },
  {
   "cell_type": "markdown",
   "metadata": {},
   "source": [
    "Let's also verify that we have the required number of device IDs."
   ]
  },
  {
   "cell_type": "code",
   "execution_count": 44,
   "metadata": {
    "collapsed": true
   },
   "outputs": [],
   "source": [
    "assert set(my_submission_sf[\"device_id\"].unique()) == set(gender_age_test[\"device_id\"].unique())"
   ]
  },
  {
   "cell_type": "markdown",
   "metadata": {},
   "source": [
    "Now we can save our submission SFrame. Note that we have several options to do it:\n",
    "\n",
    "* `my_submission_sf.save(\"benchmark_submission.csv\")` - would save the SFrame as a CSV file.\n",
    "\n",
    "* `my_submission_sf.save(\"benchmark_submission.csv.gz\")` - would save the SFrame as a compressed (gzipped) CSV file. This is the option I'll use as it means a smaller upload to Kaggle.\n",
    "\n",
    "* `my_submission_sf.save(\"benchmark_submission\")` - would create a directory called `benchmark_submission` where the SFrame data is saved in our binary format. This is not as smaller as a gzipped file, but is definitely smaller than the raw CSV, and loads faster into GraphLab.\n",
    "\n",
    "Note that the SFrame project has been open sourced, so you can use SFrame for feature engineering for free. Checkout *[sic]* [our SFrame repository on GitHub](https://github.com/turi-code/SFrame) or download it using pip:\n",
    "\n",
    "    `pip install -U sframe`"
   ]
  },
  {
   "cell_type": "code",
   "execution_count": 45,
   "metadata": {
    "collapsed": true
   },
   "outputs": [],
   "source": [
    "my_submission_sf.save(\"benchmark_submission.csv.gz\")"
   ]
  },
  {
   "cell_type": "markdown",
   "metadata": {},
   "source": [
    "This submission scores ~2.42 on Kaggle. Not very good, considering we padded the results for most of the devices!"
   ]
  },
  {
   "cell_type": "markdown",
   "metadata": {},
   "source": [
    "To demonstrate the power of SFrame and the convenience of GraphLab Create, I chose to focus on a quite complicated feature engineering (joining and grouping by the active application IDs). I also created just one model - the boosted decision trees. However, there is much more you can do to win this competition - whether you'll choose to use GraphLab Create for this task or not.\n",
    "\n",
    "## Where do we go from here?\n",
    "\n",
    "Naturally, to where we came from. Let's recall which data sources are available for us. We stored the list of CSVs in the `required_csvs` list in the beginning of the notebook."
   ]
  },
  {
   "cell_type": "code",
   "execution_count": 46,
   "metadata": {
    "collapsed": false
   },
   "outputs": [
    {
     "data": {
      "text/plain": [
       "['app_events.csv',\n",
       " 'app_labels.csv',\n",
       " 'events.csv',\n",
       " 'gender_age_test.csv',\n",
       " 'gender_age_train.csv',\n",
       " 'label_categories.csv',\n",
       " 'phone_brand_device_model.csv',\n",
       " 'sample_submission.csv']"
      ]
     },
     "execution_count": 46,
     "metadata": {},
     "output_type": "execute_result"
    }
   ],
   "source": [
    "required_csvs"
   ]
  },
  {
   "cell_type": "markdown",
   "metadata": {},
   "source": [
    "By now we already know that for many devices, we don't have any events. That means no timestamps, no longitude/latitude values, and no lists of active and/or installed apps. That is, nothing like this:"
   ]
  },
  {
   "cell_type": "code",
   "execution_count": 47,
   "metadata": {
    "collapsed": false
   },
   "outputs": [
    {
     "data": {
      "text/html": [
       "<div style=\"max-height:1000px;max-width:1500px;overflow:auto;\"><table frame=\"box\" rules=\"cols\">\n",
       "    <tr>\n",
       "        <th style=\"padding-left: 1em; padding-right: 1em; text-align: center\">event_id</th>\n",
       "        <th style=\"padding-left: 1em; padding-right: 1em; text-align: center\">device_id</th>\n",
       "        <th style=\"padding-left: 1em; padding-right: 1em; text-align: center\">timestamp</th>\n",
       "        <th style=\"padding-left: 1em; padding-right: 1em; text-align: center\">longitude</th>\n",
       "        <th style=\"padding-left: 1em; padding-right: 1em; text-align: center\">latitude</th>\n",
       "        <th style=\"padding-left: 1em; padding-right: 1em; text-align: center\">active</th>\n",
       "    </tr>\n",
       "    <tr>\n",
       "        <td style=\"padding-left: 1em; padding-right: 1em; text-align: center; vertical-align: top\">2</td>\n",
       "        <td style=\"padding-left: 1em; padding-right: 1em; text-align: center; vertical-align: top\">-6401643145415154744</td>\n",
       "        <td style=\"padding-left: 1em; padding-right: 1em; text-align: center; vertical-align: top\">2016-05-01 00:54:12</td>\n",
       "        <td style=\"padding-left: 1em; padding-right: 1em; text-align: center; vertical-align: top\">103.65</td>\n",
       "        <td style=\"padding-left: 1em; padding-right: 1em; text-align: center; vertical-align: top\">30.97</td>\n",
       "        <td style=\"padding-left: 1em; padding-right: 1em; text-align: center; vertical-align: top\">{5927333115845830913: 1,<br>4775896950989639373: 1, ...</td>\n",
       "    </tr>\n",
       "</table>\n",
       "<table frame=\"box\" rules=\"cols\">\n",
       "    <tr>\n",
       "        <th style=\"padding-left: 1em; padding-right: 1em; text-align: center\">installed</th>\n",
       "    </tr>\n",
       "    <tr>\n",
       "        <td style=\"padding-left: 1em; padding-right: 1em; text-align: center; vertical-align: top\">{-1758857579862594461: 1,<br>3717049149426646122: 1, ...</td>\n",
       "    </tr>\n",
       "</table>\n",
       "[1 rows x 7 columns]<br/>\n",
       "</div>"
      ],
      "text/plain": [
       "Columns:\n",
       "\tevent_id\tint\n",
       "\tdevice_id\tint\n",
       "\ttimestamp\tdatetime\n",
       "\tlongitude\tfloat\n",
       "\tlatitude\tfloat\n",
       "\tactive\tdict\n",
       "\tinstalled\tdict\n",
       "\n",
       "Rows: 1\n",
       "\n",
       "Data:\n",
       "+----------+----------------------+---------------------+-----------+----------+\n",
       "| event_id |      device_id       |      timestamp      | longitude | latitude |\n",
       "+----------+----------------------+---------------------+-----------+----------+\n",
       "|    2     | -6401643145415154744 | 2016-05-01 00:54:12 |   103.65  |  30.97   |\n",
       "+----------+----------------------+---------------------+-----------+----------+\n",
       "+-------------------------------+-------------------------------+\n",
       "|             active            |           installed           |\n",
       "+-------------------------------+-------------------------------+\n",
       "| {5927333115845830913: 1, 4... | {-1758857579862594461: 1, ... |\n",
       "+-------------------------------+-------------------------------+\n",
       "[1 rows x 7 columns]"
      ]
     },
     "execution_count": 47,
     "metadata": {},
     "output_type": "execute_result"
    }
   ],
   "source": [
    "joined.head(1)"
   ]
  },
  {
   "cell_type": "markdown",
   "metadata": {},
   "source": [
    "We do seem to have the phone brands and device models for all of our devices:"
   ]
  },
  {
   "cell_type": "code",
   "execution_count": 48,
   "metadata": {
    "collapsed": false
   },
   "outputs": [
    {
     "data": {
      "text/plain": [
       "112071"
      ]
     },
     "execution_count": 48,
     "metadata": {},
     "output_type": "execute_result"
    }
   ],
   "source": [
    "len(set(gender_age_test[\"device_id\"].unique()) & set(phone_brand_device_model[\"device_id\"].unique()))"
   ]
  },
  {
   "cell_type": "markdown",
   "metadata": {},
   "source": [
    "Perpahs we can make use of this information somehow. Seems unfair? This is real-world data, and these are the hardships the TalkingData data scientists tackle. Sometimes, only some of the data is available to some of the devices. Let's see what we can get out of it.\n",
    "\n",
    "Another thing we just glimpsed upon is the categories space of the apps. Perhaps converting the list of apps to a list of categories would give us a deeper understanding of our device owners' interests?\n",
    "\n",
    "There surely are many ways to handle this data - and with the easy-to-learn, easy-to-use API of GraphLab Create's many algorithms, I hope you'll win the competition!\n",
    "\n",
    "# Good Luck!!!"
   ]
  },
  {
   "cell_type": "markdown",
   "metadata": {},
   "source": [
    "## Bonus Round: Visualizing the Geolocation Data\n",
    "Looking at the model's feature importance,, we noticed that the longitude and latitude arguments contribute the most to the model's results. Let's visualize them in the hope that we can get some insights on how to partition the coordinate pairs."
   ]
  },
  {
   "cell_type": "code",
   "execution_count": 49,
   "metadata": {
    "collapsed": false
   },
   "outputs": [
    {
     "data": {
      "text/html": [
       "<div style=\"max-height:1000px;max-width:1500px;overflow:auto;\"><table frame=\"box\" rules=\"cols\">\n",
       "    <tr>\n",
       "        <th style=\"padding-left: 1em; padding-right: 1em; text-align: center\">name</th>\n",
       "        <th style=\"padding-left: 1em; padding-right: 1em; text-align: center\">index</th>\n",
       "        <th style=\"padding-left: 1em; padding-right: 1em; text-align: center\">count</th>\n",
       "    </tr>\n",
       "    <tr>\n",
       "        <td style=\"padding-left: 1em; padding-right: 1em; text-align: center; vertical-align: top\">longitude</td>\n",
       "        <td style=\"padding-left: 1em; padding-right: 1em; text-align: center; vertical-align: top\">None</td>\n",
       "        <td style=\"padding-left: 1em; padding-right: 1em; text-align: center; vertical-align: top\">144</td>\n",
       "    </tr>\n",
       "    <tr>\n",
       "        <td style=\"padding-left: 1em; padding-right: 1em; text-align: center; vertical-align: top\">latitude</td>\n",
       "        <td style=\"padding-left: 1em; padding-right: 1em; text-align: center; vertical-align: top\">None</td>\n",
       "        <td style=\"padding-left: 1em; padding-right: 1em; text-align: center; vertical-align: top\">97</td>\n",
       "    </tr>\n",
       "</table>\n",
       "[2 rows x 3 columns]<br/>\n",
       "</div>"
      ],
      "text/plain": [
       "Columns:\n",
       "\tname\tstr\n",
       "\tindex\tstr\n",
       "\tcount\tint\n",
       "\n",
       "Rows: 2\n",
       "\n",
       "Data:\n",
       "+-----------+-------+-------+\n",
       "|    name   | index | count |\n",
       "+-----------+-------+-------+\n",
       "| longitude |  None |  144  |\n",
       "|  latitude |  None |   97  |\n",
       "+-----------+-------+-------+\n",
       "[2 rows x 3 columns]"
      ]
     },
     "execution_count": 49,
     "metadata": {},
     "output_type": "execute_result"
    }
   ],
   "source": [
    "# A reminder\n",
    "model.get_feature_importance()[:2]"
   ]
  },
  {
   "cell_type": "markdown",
   "metadata": {},
   "source": [
    "The following cell requires the **`folium`** package, and **may take a long time to execute!**\n",
    "\n",
    "You can get `folium` by using `pip install -U folium` ."
   ]
  },
  {
   "cell_type": "code",
   "execution_count": 50,
   "metadata": {
    "collapsed": false,
    "scrolled": true
   },
   "outputs": [],
   "source": [
    "try:\n",
    "    from folium import Map, CircleMarker\n",
    "    \n",
    "    def show_coordinates_on_map():\n",
    "        mean_lon = events[\"longitude\"][events[\"longitude\"] > 1].mean()\n",
    "        mean_lat = events[\"latitude\"][events[\"latitude\"] > 1].mean()\n",
    "        cloc = (mean_lat, mean_lon)\n",
    "        map_1 = Map(location=cloc, zoom_start=3)\n",
    "        for row in events[[\"latitude\", \"longitude\"]].unique():\n",
    "            map_1.add_children(CircleMarker((row[\"latitude\"], row[\"longitude\"])))\n",
    "\n",
    "        map_1.lat_lng_popover()\n",
    "        return map_1\n",
    "\n",
    "except ImportError:\n",
    "    def show_coordinates_on_map():\n",
    "        print \"Please install the folium Python package to make this cell usable.\""
   ]
  },
  {
   "cell_type": "code",
   "execution_count": 51,
   "metadata": {
    "collapsed": false
   },
   "outputs": [],
   "source": [
    "# Uncomment the following line and run the cell if you're interested in the visualization.\n",
    "\n",
    "#show_coordinates_on_map()"
   ]
  }
 ],
 "metadata": {
  "kernelspec": {
   "display_name": "Python 2",
   "language": "python",
   "name": "python2"
  },
  "language_info": {
   "codemirror_mode": {
    "name": "ipython",
    "version": 2
   },
   "file_extension": ".py",
   "mimetype": "text/x-python",
   "name": "python",
   "nbconvert_exporter": "python",
   "pygments_lexer": "ipython2",
   "version": "2.7.11"
  },
  "widgets": {
   "state": {},
   "version": "1.1.2"
  }
 },
 "nbformat": 4,
 "nbformat_minor": 0
}
